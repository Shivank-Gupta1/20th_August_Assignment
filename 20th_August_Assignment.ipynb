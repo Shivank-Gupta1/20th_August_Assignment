{
 "cells": [
  {
   "cell_type": "markdown",
   "id": "b3d42291",
   "metadata": {},
   "source": [
    "# String Based Assignment Problem"
   ]
  },
  {
   "cell_type": "code",
   "execution_count": null,
   "id": "767e95d9",
   "metadata": {},
   "outputs": [],
   "source": [
    "###1.Program to Reverse a String"
   ]
  },
  {
   "cell_type": "code",
   "execution_count": 1,
   "id": "8880a1f6",
   "metadata": {},
   "outputs": [
    {
     "name": "stdout",
     "output_type": "stream",
     "text": [
      "Enter the Stringshivank\n",
      "knavihs\n"
     ]
    }
   ],
   "source": [
    "Text=str(input(\"Enter the String\"))\n",
    "Reversed_String=Text[::-1]\n",
    "print(Reversed_String)"
   ]
  },
  {
   "cell_type": "code",
   "execution_count": null,
   "id": "23902c58",
   "metadata": {},
   "outputs": [],
   "source": [
    "###2.Check If A string is palindrome"
   ]
  },
  {
   "cell_type": "code",
   "execution_count": 3,
   "id": "32b6eb45",
   "metadata": {},
   "outputs": [
    {
     "name": "stdout",
     "output_type": "stream",
     "text": [
      "Input String : string\n",
      "String is not Palindrome\n"
     ]
    }
   ],
   "source": [
    "String=str(input(\"Input String : \"))\n",
    "Reversed_String=String[::-1]\n",
    "if Reversed_String==String:\n",
    "    print(\"String is Palindrome\")\n",
    "else :\n",
    "    print(\"String is not Palindrome\")\n"
   ]
  },
  {
   "cell_type": "code",
   "execution_count": null,
   "id": "cca83fea",
   "metadata": {},
   "outputs": [],
   "source": [
    "###3.Convert a String to uppercase"
   ]
  },
  {
   "cell_type": "code",
   "execution_count": 4,
   "id": "1dcd50ed",
   "metadata": {},
   "outputs": [
    {
     "name": "stdout",
     "output_type": "stream",
     "text": [
      "Enter the String : shivank\n",
      "SHIVANK\n"
     ]
    }
   ],
   "source": [
    "String=str(input(\"Enter the String : \"))\n",
    "String_upper=String.upper()\n",
    "print(String_upper)"
   ]
  },
  {
   "cell_type": "code",
   "execution_count": 5,
   "id": "badb8196",
   "metadata": {},
   "outputs": [],
   "source": [
    "###4.Convert a String to lowercase"
   ]
  },
  {
   "cell_type": "code",
   "execution_count": 6,
   "id": "48fcdc93",
   "metadata": {},
   "outputs": [
    {
     "name": "stdout",
     "output_type": "stream",
     "text": [
      "Enter the String : SHIVANK\n",
      "shivank\n"
     ]
    }
   ],
   "source": [
    "String=str(input(\"Enter the String : \"))\n",
    "String_lower=String.lower()\n",
    "print(String_lower)"
   ]
  },
  {
   "cell_type": "code",
   "execution_count": null,
   "id": "c133e16a",
   "metadata": {},
   "outputs": [],
   "source": [
    "###5.Count the number of vowels in a string"
   ]
  },
  {
   "cell_type": "code",
   "execution_count": 10,
   "id": "1c4d21e5",
   "metadata": {},
   "outputs": [
    {
     "name": "stdout",
     "output_type": "stream",
     "text": [
      "Enter the String : Python is a programming language\n",
      "Count of vowels are :  10\n"
     ]
    }
   ],
   "source": [
    "String=str(input(\"Enter the String : \"))\n",
    "vowel=0\n",
    "for i in String:\n",
    "    if(i=='a' or i=='e' or i=='i' or i=='o' or i=='u' or i=='A' or i=='E' or i=='I' or i=='O' or i=='U'):\n",
    "        vowel=vowel+1\n",
    "print(\"Count of vowels are : \",vowel)"
   ]
  },
  {
   "cell_type": "code",
   "execution_count": null,
   "id": "c23aa36d",
   "metadata": {},
   "outputs": [],
   "source": [
    "###6.Count the number of consonants in a string"
   ]
  },
  {
   "cell_type": "code",
   "execution_count": 8,
   "id": "dfae0f5b",
   "metadata": {},
   "outputs": [
    {
     "name": "stdout",
     "output_type": "stream",
     "text": [
      "Enter a string: Python is a programming language\n",
      "Total Number of consonants: 18\n"
     ]
    }
   ],
   "source": [
    "def Total_count(string):\n",
    "    count_consonant = 0\n",
    "    consonants = \"bcdfghjklmnpqrstvwxyzBCDFGHJKLMNPQRSTVWXYZ\"\n",
    "    for char in string:\n",
    "        if char in consonants:\n",
    "            count_consonant = count_consonant+1\n",
    "    return count_consonant\n",
    "input_string = input(\"Enter a string: \")\n",
    "result = Total_count(input_string)\n",
    "print(\"Total Number of consonants:\", result)"
   ]
  },
  {
   "cell_type": "code",
   "execution_count": null,
   "id": "e1c19cd1",
   "metadata": {},
   "outputs": [],
   "source": [
    "###7.Remove all whitespaces from a String"
   ]
  },
  {
   "cell_type": "code",
   "execution_count": 12,
   "id": "e14679bc",
   "metadata": {},
   "outputs": [
    {
     "name": "stdout",
     "output_type": "stream",
     "text": [
      "Enter the String:python is alanguage\n",
      "String without Whitespace is :  pythonisalanguage\n"
     ]
    }
   ],
   "source": [
    "Input_string=str(input(\"Enter the String:\"))\n",
    "without_whitespace=Input_string.replace(\" \",\"\")\n",
    "print(\"String without Whitespace is : \",without_whitespace)"
   ]
  },
  {
   "cell_type": "code",
   "execution_count": null,
   "id": "aa982275",
   "metadata": {},
   "outputs": [],
   "source": [
    "###8.Find the length of the string without using the Len() function"
   ]
  },
  {
   "cell_type": "code",
   "execution_count": 13,
   "id": "107f71ee",
   "metadata": {},
   "outputs": [
    {
     "name": "stdout",
     "output_type": "stream",
     "text": [
      "Enter the String : python\n",
      "Lenth of the String is : 6\n"
     ]
    }
   ],
   "source": [
    "String=str(input(\"Enter the String : \"))\n",
    "len=0\n",
    "for i in String:\n",
    "    len=len+1\n",
    "print(\"Lenth of the String is :\",len )"
   ]
  },
  {
   "cell_type": "code",
   "execution_count": null,
   "id": "66f45119",
   "metadata": {},
   "outputs": [],
   "source": [
    "###9.Check if a string contains a specific word"
   ]
  },
  {
   "cell_type": "code",
   "execution_count": 14,
   "id": "fe726be8",
   "metadata": {},
   "outputs": [
    {
     "name": "stdout",
     "output_type": "stream",
     "text": [
      "Enter the String : Python is a programming languag\n",
      "Enter the word : is\n",
      "String Contains the word\n"
     ]
    }
   ],
   "source": [
    "String=str(input(\"Enter the String : \"))\n",
    "Particular_word=str(input(\"Enter the word : \"))\n",
    "if Particular_word in String:\n",
    "    print(\"String Contains the word\")\n",
    "else:\n",
    "    print(\"String does not contain the word\")\n",
    "    "
   ]
  },
  {
   "cell_type": "code",
   "execution_count": null,
   "id": "608b39bf",
   "metadata": {},
   "outputs": [],
   "source": [
    "###10.Replace a word with another word in string"
   ]
  },
  {
   "cell_type": "code",
   "execution_count": 15,
   "id": "dc29afd2",
   "metadata": {},
   "outputs": [
    {
     "name": "stdout",
     "output_type": "stream",
     "text": [
      "Enter the String : python is a language\n",
      "Enter the Word : python\n",
      "Enter the new Word : java\n",
      "String after Replacing the word: java is a language\n"
     ]
    }
   ],
   "source": [
    "String=str(input(\"Enter the String : \"))\n",
    "tobereplaced=str(input(\"Enter the Word : \"))\n",
    "new_word=str(input(\"Enter the new Word : \"))\n",
    "After_replacing=String.replace(tobereplaced,new_word)\n",
    "print(\"String after Replacing the word:\",After_replacing)"
   ]
  },
  {
   "cell_type": "code",
   "execution_count": 9,
   "id": "8f66e36e",
   "metadata": {},
   "outputs": [],
   "source": [
    "##11.Count the Occerence of the Word in a String"
   ]
  },
  {
   "cell_type": "code",
   "execution_count": 17,
   "id": "7b7cd501",
   "metadata": {},
   "outputs": [
    {
     "name": "stdout",
     "output_type": "stream",
     "text": [
      "Enter the String : is it is a\n",
      "Enter the Word : is\n",
      "Count :  2\n"
     ]
    }
   ],
   "source": [
    "String=str(input(\"Enter the String : \"))\n",
    "word=str(input(\"Enter the Word : \"))\n",
    "words=String.split()\n",
    "occurence=0\n",
    "for i in words:\n",
    "    if i == word:\n",
    "        occurence=occurence+1\n",
    "print(\"Count : \",occurence)"
   ]
  },
  {
   "cell_type": "code",
   "execution_count": null,
   "id": "813f15af",
   "metadata": {},
   "outputs": [],
   "source": [
    "###12.Find the First Occurence of the word in a string"
   ]
  },
  {
   "cell_type": "code",
   "execution_count": 18,
   "id": "2635d56d",
   "metadata": {},
   "outputs": [
    {
     "name": "stdout",
     "output_type": "stream",
     "text": [
      "Enter the String : python is a\n",
      "Enter the Word : python\n",
      "Position of First Occurecne of the Word is : 0\n"
     ]
    }
   ],
   "source": [
    "String=str(input(\"Enter the String : \"))\n",
    "word=str(input(\"Enter the Word : \"))\n",
    "result=String.find(word)\n",
    "if result==-1:\n",
    "    print(\"Word not Found\")\n",
    "else:\n",
    "    print(\"Position of First Occurecne of the Word is :\",result)\n"
   ]
  },
  {
   "cell_type": "code",
   "execution_count": null,
   "id": "dd1cb965",
   "metadata": {},
   "outputs": [],
   "source": [
    "###13.Find the First Occurence of the word in a string"
   ]
  },
  {
   "cell_type": "code",
   "execution_count": 18,
   "id": "41854eb6",
   "metadata": {},
   "outputs": [
    {
     "name": "stdout",
     "output_type": "stream",
     "text": [
      "Enter the String : Shivank is working as System Engineer in Tata Play and is working with CA Team\n",
      "Enter the Word : is\n",
      "Position of Last Occurecne of the Word is : 55\n"
     ]
    }
   ],
   "source": [
    "String=str(input(\"Enter the String : \"))\n",
    "word=str(input(\"Enter the Word : \"))\n",
    "result=String.rfind(word)\n",
    "if result==-1:\n",
    "    print(\"Word not Found\")\n",
    "else:\n",
    "    print(\"Position of Last Occurecne of the Word is :\",result)"
   ]
  },
  {
   "cell_type": "code",
   "execution_count": null,
   "id": "1b8c78e4",
   "metadata": {},
   "outputs": [],
   "source": [
    "###14.Split a String in to list of Words"
   ]
  },
  {
   "cell_type": "code",
   "execution_count": 19,
   "id": "ad33f0a2",
   "metadata": {},
   "outputs": [
    {
     "name": "stdout",
     "output_type": "stream",
     "text": [
      "Enter the String : Shivank is working as System Engineer in Tata Play and is working with CA Team\n",
      "List of Word : ['Shivank', 'is', 'working', 'as', 'System', 'Engineer', 'in', 'Tata', 'Play', 'and', 'is', 'working', 'with', 'CA', 'Team']\n"
     ]
    }
   ],
   "source": [
    "String=str(input(\"Enter the String : \"))\n",
    "Listofwords=String.split()\n",
    "print(\"List of Word :\",Listofwords)"
   ]
  },
  {
   "cell_type": "code",
   "execution_count": 20,
   "id": "70e74819",
   "metadata": {},
   "outputs": [],
   "source": [
    "###15.Join a list of words into a String"
   ]
  },
  {
   "cell_type": "code",
   "execution_count": 27,
   "id": "ad146594",
   "metadata": {},
   "outputs": [
    {
     "name": "stdout",
     "output_type": "stream",
     "text": [
      "Shivank is working as System Engineer in Tata Play and is working with CA Team\n"
     ]
    }
   ],
   "source": [
    "Words=['Shivank', 'is', 'working', 'as', 'System', 'Engineer', 'in', 'Tata', 'Play', 'and', 'is', 'working', 'with', 'CA', 'Team']\n",
    "string=' '.join(words)\n",
    "print(string)"
   ]
  },
  {
   "cell_type": "code",
   "execution_count": 28,
   "id": "cc97d247",
   "metadata": {},
   "outputs": [],
   "source": [
    "###16.Convert a string where words are separated by spaces to one where words are separated by underscores"
   ]
  },
  {
   "cell_type": "code",
   "execution_count": 34,
   "id": "b1ee3071",
   "metadata": {},
   "outputs": [
    {
     "name": "stdout",
     "output_type": "stream",
     "text": [
      "Enter the String : Shivank is working as System Engineer in Tata Play and is working with CA Team\n",
      "New String is :  Shivank_is_working_as_System_Engineer_in_Tata_Play_and_is_working_with_CA_Team\n"
     ]
    }
   ],
   "source": [
    "String=str(input(\"Enter the String : \"))\n",
    "Updated_String=String.replace(\" \",\"_\")\n",
    "print(\"New String is : \",Updated_String)"
   ]
  },
  {
   "cell_type": "code",
   "execution_count": 35,
   "id": "600def84",
   "metadata": {},
   "outputs": [],
   "source": [
    "###17.Check If a String starts with a specific word or phrase"
   ]
  },
  {
   "cell_type": "code",
   "execution_count": 42,
   "id": "060f4205",
   "metadata": {},
   "outputs": [
    {
     "name": "stdout",
     "output_type": "stream",
     "text": [
      "Enter the String : Shivank is working as System Engineer in Tata Play and is working with CA Team\n",
      "Enter the Word : the\n",
      "String does not start with  the\n"
     ]
    }
   ],
   "source": [
    "String=str(input(\"Enter the String : \"))\n",
    "word=str(input(\"Enter the Word : \"))\n",
    "words=String.startswith(word)\n",
    "if words==True:\n",
    "    print(\"String Starts with \",word)\n",
    "else:\n",
    "    print(\"String does not start with \",word)"
   ]
  },
  {
   "cell_type": "code",
   "execution_count": 43,
   "id": "612b614d",
   "metadata": {},
   "outputs": [],
   "source": [
    "###18.Check If a String ends with a specific word or phrase"
   ]
  },
  {
   "cell_type": "code",
   "execution_count": 2,
   "id": "c56fdc1a",
   "metadata": {},
   "outputs": [
    {
     "name": "stdout",
     "output_type": "stream",
     "text": [
      "Enter the String : Shivank is working as System Engineer in Tata Play and is working with CA Team\n",
      "Enter the Word : is\n",
      "String does not end with  is\n"
     ]
    }
   ],
   "source": [
    "String=str(input(\"Enter the String : \"))\n",
    "word=str(input(\"Enter the Word : \"))\n",
    "words=String.endswith(word)\n",
    "if words==True:\n",
    "    print(\"String Ends with \",word)\n",
    "else:\n",
    "    print(\"String does not end with \",word)"
   ]
  },
  {
   "cell_type": "code",
   "execution_count": null,
   "id": "2a95f56a",
   "metadata": {},
   "outputs": [],
   "source": [
    "###19.Convert a String to title case"
   ]
  },
  {
   "cell_type": "code",
   "execution_count": 5,
   "id": "18cf2d80",
   "metadata": {},
   "outputs": [
    {
     "name": "stdout",
     "output_type": "stream",
     "text": [
      "Enter the String : shivank is working as System Engineer in tata play and is working with ca team\n",
      "Final Output is : Shivank Is Working As System Engineer In Tata Play And Is Working With Ca Team\n"
     ]
    }
   ],
   "source": [
    "String=str(input(\"Enter the String : \"))\n",
    "Titled_String=String.title()\n",
    "print(\"Final Output is :\",Titled_String)"
   ]
  },
  {
   "cell_type": "code",
   "execution_count": 6,
   "id": "4d3c1f4a",
   "metadata": {},
   "outputs": [],
   "source": [
    "###20.Find the Longest Word in a String"
   ]
  },
  {
   "cell_type": "code",
   "execution_count": 1,
   "id": "fd7996b0",
   "metadata": {},
   "outputs": [
    {
     "name": "stdout",
     "output_type": "stream",
     "text": [
      "Enter the String : Shivank Is Working As System Engineer In Tata Play And Is Working With Ca Team\n",
      "Longest Word is : Engineer\n"
     ]
    }
   ],
   "source": [
    "String=str(input(\"Enter the String : \"))\n",
    "words=String.split()\n",
    "longestword=max(words,key=len)\n",
    "print(\"Longest Word is :\",longestword)"
   ]
  },
  {
   "cell_type": "code",
   "execution_count": 2,
   "id": "aa12353c",
   "metadata": {},
   "outputs": [],
   "source": [
    "###21.Find the Shortest Word in a String"
   ]
  },
  {
   "cell_type": "code",
   "execution_count": 3,
   "id": "49beba5c",
   "metadata": {},
   "outputs": [
    {
     "name": "stdout",
     "output_type": "stream",
     "text": [
      "Enter the String : Shivank Is Working As System Engineer In Tata Play And Is Working With Ca Team\n",
      "Shortest Word is : Is\n"
     ]
    }
   ],
   "source": [
    "String=str(input(\"Enter the String : \"))\n",
    "words=String.split()\n",
    "shortestword=min(words,key=len)\n",
    "print(\"Shortest Word is :\",shortestword)"
   ]
  },
  {
   "cell_type": "code",
   "execution_count": 4,
   "id": "5d497a06",
   "metadata": {},
   "outputs": [],
   "source": [
    "###22.Reverse the order of words in a String"
   ]
  },
  {
   "cell_type": "code",
   "execution_count": 7,
   "id": "b94b92d9",
   "metadata": {},
   "outputs": [
    {
     "name": "stdout",
     "output_type": "stream",
     "text": [
      "Enter the String : Shivank Is Working As System Engineer In Tata Play And Is Working With Ca Team\n",
      "Reversed String is : Team Ca With Working Is And Play Tata In Engineer System As Working Is Shivank\n"
     ]
    }
   ],
   "source": [
    "String=str(input(\"Enter the String : \"))\n",
    "words=String.split()\n",
    "words=list(reversed(words))\n",
    "print(\"Reversed String is :\", \" \".join(words))"
   ]
  },
  {
   "cell_type": "code",
   "execution_count": 8,
   "id": "330e7fcc",
   "metadata": {},
   "outputs": [],
   "source": [
    "###23.Check if a string is alphanumeric"
   ]
  },
  {
   "cell_type": "code",
   "execution_count": 12,
   "id": "452c45ef",
   "metadata": {},
   "outputs": [
    {
     "name": "stdout",
     "output_type": "stream",
     "text": [
      "Enter the String : Shivank Is Working As System Engineer In Tata Play And Is Working With Ca Team\n",
      "String is not Alphanumeric\n"
     ]
    }
   ],
   "source": [
    "String=str(input(\"Enter the String : \"))\n",
    "alphanumeric=String.isalnum()\n",
    "if alphanumeric==True:\n",
    "    print(\"String is Alphanumeric\")\n",
    "else:\n",
    "    print(\"String is not Alphanumeric\")"
   ]
  },
  {
   "cell_type": "code",
   "execution_count": 64,
   "id": "a41c763d",
   "metadata": {},
   "outputs": [],
   "source": [
    "###24.Extract all digits from a string"
   ]
  },
  {
   "cell_type": "code",
   "execution_count": 63,
   "id": "34f693ba",
   "metadata": {},
   "outputs": [
    {
     "name": "stdout",
     "output_type": "stream",
     "text": [
      "All Digits: 123456\n"
     ]
    }
   ],
   "source": [
    "def digits(String):\n",
    "    digit = \"\"\n",
    "    for i in String:\n",
    "        if i.isdigit():\n",
    "            digit += i\n",
    "    return digit\n",
    "String = \"Shivank123456\"\n",
    "extract_digits = digits(String)\n",
    "print(\"All Digits:\", extract_digits)"
   ]
  },
  {
   "cell_type": "code",
   "execution_count": 65,
   "id": "8c61b995",
   "metadata": {},
   "outputs": [],
   "source": [
    "###25.Extract All Alphabets from a String"
   ]
  },
  {
   "cell_type": "code",
   "execution_count": 67,
   "id": "4769f0f4",
   "metadata": {},
   "outputs": [
    {
     "name": "stdout",
     "output_type": "stream",
     "text": [
      "All Alphabets: Shivank\n"
     ]
    }
   ],
   "source": [
    "def alphabets(String):\n",
    "    alphabet = \"\"\n",
    "    for i in String:\n",
    "        if i.isalpha():\n",
    "            alphabet += i\n",
    "    return alphabet\n",
    "String = \"Shivank123456\"\n",
    "extract_alphabet = alphabets(String)\n",
    "print(\"All Alphabets:\", extract_alphabet)"
   ]
  },
  {
   "cell_type": "code",
   "execution_count": 68,
   "id": "35ffe569",
   "metadata": {},
   "outputs": [],
   "source": [
    "###26.Count the Number of Uppercase Alphabets in a string"
   ]
  },
  {
   "cell_type": "code",
   "execution_count": 69,
   "id": "35411fbc",
   "metadata": {},
   "outputs": [
    {
     "name": "stdout",
     "output_type": "stream",
     "text": [
      "Enter a string: Shivank is working as System Engineer in Tata Play and is working with CA Team\n",
      "Total Number of Uppercase letters: 8\n"
     ]
    }
   ],
   "source": [
    "def Total_count(string):\n",
    "    count_uppercase = 0\n",
    "    uppercase = \"ABCDEFGHIJKLMNOPQRSTUVWXYZ\"\n",
    "    for i in string:\n",
    "        if i in uppercase:\n",
    "            count_uppercase = count_uppercase+1\n",
    "    return count_uppercase\n",
    "input_string = input(\"Enter a string: \")\n",
    "result = Total_count(input_string)\n",
    "print(\"Total Number of Uppercase letters:\", result)"
   ]
  },
  {
   "cell_type": "code",
   "execution_count": 70,
   "id": "82d11d94",
   "metadata": {},
   "outputs": [],
   "source": [
    "###27.Count the Number of Uppercase Alphabets in a string"
   ]
  },
  {
   "cell_type": "code",
   "execution_count": 73,
   "id": "1f9ec0e8",
   "metadata": {},
   "outputs": [
    {
     "name": "stdout",
     "output_type": "stream",
     "text": [
      "Enter a string: Shivank is working as System Engineer in Tata Play and is working with CA Team\n",
      "Total Number of Lowercase letters: 56\n"
     ]
    }
   ],
   "source": [
    "def Total_count(string):\n",
    "    count_lowercase = 0\n",
    "    lowercase = \"abcdefghijklmnopqrstuvwxyz\"\n",
    "    for i in string:\n",
    "        if i in lowercase:\n",
    "            count_lowercase = count_lowercase+1\n",
    "    return count_lowercase\n",
    "input_string = input(\"Enter a string: \")\n",
    "result = Total_count(input_string)\n",
    "print(\"Total Number of Lowercase letters:\", result)"
   ]
  },
  {
   "cell_type": "code",
   "execution_count": 74,
   "id": "7aa017c3",
   "metadata": {},
   "outputs": [],
   "source": [
    "###28.Swap the case of each character in a string"
   ]
  },
  {
   "cell_type": "code",
   "execution_count": 76,
   "id": "05b4ddf6",
   "metadata": {},
   "outputs": [
    {
     "name": "stdout",
     "output_type": "stream",
     "text": [
      "Enter the String : Shivank is working as System Engineer in Tata Play and is working with CA Team\n",
      "Swapped Case String : sHIVANK IS WORKING AS sYSTEM eNGINEER IN tATA pLAY AND IS WORKING WITH ca tEAM\n"
     ]
    }
   ],
   "source": [
    "String=str(input(\"Enter the String : \"))\n",
    "swapped_string=String.swapcase()\n",
    "print(\"Swapped Case String :\",swapped_string)"
   ]
  },
  {
   "cell_type": "code",
   "execution_count": 77,
   "id": "939376fe",
   "metadata": {},
   "outputs": [],
   "source": [
    "###29.Remove a specific word from a string"
   ]
  },
  {
   "cell_type": "code",
   "execution_count": 127,
   "id": "d275b964",
   "metadata": {},
   "outputs": [
    {
     "name": "stdout",
     "output_type": "stream",
     "text": [
      "Enter the String : Shivank is working as System Engineer in Tata Play and is working with CA Team\n",
      "Enter the word : Play\n",
      "String after Removal :  Shivank is working as System Engineer in Tata  and is working with CA Team\n"
     ]
    }
   ],
   "source": [
    "String=str(input(\"Enter the String : \"))\n",
    "Wordtoremove=str(input(\"Enter the word : \"))\n",
    "Remove=String.replace(Wordtoremove,\"\")\n",
    "print(\"String after Removal : \",Remove)"
   ]
  },
  {
   "cell_type": "code",
   "execution_count": 108,
   "id": "735a3bec",
   "metadata": {},
   "outputs": [],
   "source": [
    "###30.Check if a string is a valid email address"
   ]
  },
  {
   "cell_type": "code",
   "execution_count": 19,
   "id": "e375476c",
   "metadata": {},
   "outputs": [
    {
     "name": "stdout",
     "output_type": "stream",
     "text": [
      "False\n"
     ]
    }
   ],
   "source": [
    "import re\n",
    "def is_valid_email_address(email_address):\n",
    "    symbols = r'^[\\w\\.-]+@[\\w\\.-]+\\.\\w+$'\n",
    "    if re.match(symbols, email_address):\n",
    "        return True\n",
    "    else:\n",
    "        return False\n",
    "email = \"shivankemail.com\"\n",
    "result = is_valid_email_address(email)\n",
    "print(result)"
   ]
  },
  {
   "cell_type": "code",
   "execution_count": 143,
   "id": "f9c83481",
   "metadata": {},
   "outputs": [],
   "source": [
    "##31.Extract the username from an email address string"
   ]
  },
  {
   "cell_type": "code",
   "execution_count": 2,
   "id": "cb8f9b49",
   "metadata": {},
   "outputs": [
    {
     "name": "stdout",
     "output_type": "stream",
     "text": [
      "Enter the Email : shivank@gmail.com\n",
      "Name from Email :  shivank\n"
     ]
    }
   ],
   "source": [
    "String=str(input(\"Enter the Email : \"))\n",
    "Splitted_email=String.split('@')\n",
    "First_splitted_part=Splitted_email[0]\n",
    "print(\"Name from Email : \",First_splitted_part)"
   ]
  },
  {
   "cell_type": "code",
   "execution_count": 3,
   "id": "ed293460",
   "metadata": {},
   "outputs": [
    {
     "name": "stdout",
     "output_type": "stream",
     "text": [
      "Enter the Email : shivank@gmail.com\n",
      "Domain from Email :  gmail.com\n"
     ]
    }
   ],
   "source": [
    "##32.Extract the domain Name from an email address string\n",
    "String=str(input(\"Enter the Email : \"))\n",
    "Splitted_email=String.split('@')\n",
    "Last_splitted_part=Splitted_email[-1]\n",
    "print(\"Domain from Email : \",Last_splitted_part)"
   ]
  },
  {
   "cell_type": "code",
   "execution_count": 4,
   "id": "f6b0af6b",
   "metadata": {},
   "outputs": [],
   "source": [
    "##33.Replace multiple spaces in a string with a single space"
   ]
  },
  {
   "cell_type": "code",
   "execution_count": 15,
   "id": "80a9e1c0",
   "metadata": {},
   "outputs": [
    {
     "name": "stdout",
     "output_type": "stream",
     "text": [
      "Enter the String : shivank gupta   system    engineer    tata   play\n",
      "String with 1 space :  shivank gupta system engineer tata play\n"
     ]
    }
   ],
   "source": [
    "String=str(input(\"Enter the String : \"))\n",
    "Splitted_String=String.split()\n",
    "stringwith1space=' '.join(Splitted_String)\n",
    "print(\"String with 1 space : \",stringwith1space)"
   ]
  },
  {
   "cell_type": "code",
   "execution_count": 20,
   "id": "134d3816",
   "metadata": {},
   "outputs": [],
   "source": [
    "##34.Check if a string is a valid URL."
   ]
  },
  {
   "cell_type": "code",
   "execution_count": 31,
   "id": "e8f4e3e4",
   "metadata": {},
   "outputs": [
    {
     "name": "stdout",
     "output_type": "stream",
     "text": [
      "False\n"
     ]
    }
   ],
   "source": [
    "import re\n",
    "\n",
    "def is_valid_url(url):\n",
    "    pattern = r'^(http|https):\\/\\/([\\w.-]+)(\\.[\\w.-]+)+([\\/\\w\\.-]*)*\\/?$'\n",
    "    return bool(re.match(pattern, url))\n",
    "url=\"https://www.google@com\"\n",
    "print(is_valid_url(url))"
   ]
  },
  {
   "cell_type": "code",
   "execution_count": 16,
   "id": "54e40019",
   "metadata": {},
   "outputs": [],
   "source": [
    "##35.Extract the protocol (http or https) from a URL string"
   ]
  },
  {
   "cell_type": "code",
   "execution_count": 18,
   "id": "c478fe8b",
   "metadata": {},
   "outputs": [
    {
     "name": "stdout",
     "output_type": "stream",
     "text": [
      "Enter the URL : http:\\\\google.com\n",
      "Protocol :  http\n"
     ]
    }
   ],
   "source": [
    "String1=str(input(\"Enter the URL : \"))\n",
    "Splitted_URL=String1.split(':')\n",
    "First_splitted_part=Splitted_URL[0]\n",
    "print(\"Protocol : \",First_splitted_part)"
   ]
  },
  {
   "cell_type": "code",
   "execution_count": 19,
   "id": "3616b7ea",
   "metadata": {},
   "outputs": [],
   "source": [
    "##36.Find the frequency of each character in a string"
   ]
  },
  {
   "cell_type": "code",
   "execution_count": 54,
   "id": "05a81b4b",
   "metadata": {},
   "outputs": [
    {
     "name": "stdout",
     "output_type": "stream",
     "text": [
      "Enter the String : Akash\n",
      "Count of character 'h' is 1\n",
      "Count of character 'k' is 1\n",
      "Count of character 'a' is 1\n",
      "Count of character 'A' is 1\n",
      "Count of character 's' is 1\n"
     ]
    }
   ],
   "source": [
    "from collections import Counter\n",
    "String = str(input(\"Enter the String : \"))\n",
    "Freq_Set = set(String)\n",
    "for i in Freq_Set:\n",
    "    countOfChar = 0\n",
    "    for char in String:\n",
    "        if char == i:\n",
    "            countOfChar += 1\n",
    "    print(\"Count of character '{}' is {}\".format(i, countOfChar))"
   ]
  },
  {
   "cell_type": "code",
   "execution_count": null,
   "id": "0207b207",
   "metadata": {},
   "outputs": [],
   "source": [
    "##37.Remove all punctuation from a string"
   ]
  },
  {
   "cell_type": "code",
   "execution_count": 58,
   "id": "64baa5bf",
   "metadata": {},
   "outputs": [
    {
     "name": "stdout",
     "output_type": "stream",
     "text": [
      "Enter the String : Gfg, is best : for ! Geeks ;\n",
      "String After Punctuation Removal : Gfg is best  for  Geeks \n"
     ]
    }
   ],
   "source": [
    "String = str(input(\"Enter the String : \"))\n",
    "punctuations = '''!()-[]{};:'\"\\,<>./?@#$%^&*_~'''\n",
    "for i in punctuations:\n",
    "    if i in punctuations:\n",
    "        String=String.replace(i,\"\")\n",
    "print(\"String After Punctuation Removal :\",String)\n",
    "        "
   ]
  },
  {
   "cell_type": "code",
   "execution_count": 63,
   "id": "e0d638f3",
   "metadata": {},
   "outputs": [],
   "source": [
    "##38.Check if a string contains only digits"
   ]
  },
  {
   "cell_type": "code",
   "execution_count": 62,
   "id": "ece605b8",
   "metadata": {},
   "outputs": [
    {
     "name": "stdout",
     "output_type": "stream",
     "text": [
      "Enter the String : 1234588\n",
      "String Contains Only Digits\n"
     ]
    }
   ],
   "source": [
    "String = str(input(\"Enter the String : \"))\n",
    "Only_Digit=String.isdigit()\n",
    "if Only_Digit is True:\n",
    "    print(\"String Contains Only Digits\")\n",
    "else:\n",
    "    print(\"String does not contain only Digits\")"
   ]
  },
  {
   "cell_type": "code",
   "execution_count": 64,
   "id": "23b04d7b",
   "metadata": {},
   "outputs": [],
   "source": [
    "##39.Check if a string contains only alphabets"
   ]
  },
  {
   "cell_type": "code",
   "execution_count": 66,
   "id": "e6e17cf8",
   "metadata": {},
   "outputs": [
    {
     "name": "stdout",
     "output_type": "stream",
     "text": [
      "Enter the String : Shivank\n",
      "String Contains Only Alphabets\n"
     ]
    }
   ],
   "source": [
    "String = str(input(\"Enter the String : \"))\n",
    "Only_Alpha=String.isalpha()\n",
    "if Only_Alpha is True:\n",
    "    print(\"String Contains Only Alphabets\")\n",
    "else:\n",
    "    print(\"String does not contain only Alphabets\")"
   ]
  },
  {
   "cell_type": "code",
   "execution_count": 67,
   "id": "7196347e",
   "metadata": {},
   "outputs": [],
   "source": [
    "##40.Convert a string to a list of characters"
   ]
  },
  {
   "cell_type": "code",
   "execution_count": 33,
   "id": "1b51d0da",
   "metadata": {},
   "outputs": [
    {
     "name": "stdout",
     "output_type": "stream",
     "text": [
      "Enter the String :python\n",
      "['p', 'y', 't', 'h', 'o', 'n']\n"
     ]
    }
   ],
   "source": [
    "String = str(input(\"Enter the String :\"))\n",
    "Count = []\n",
    " \n",
    "for i in String:\n",
    "    Count.append(i)\n",
    "print(Count)"
   ]
  },
  {
   "cell_type": "code",
   "execution_count": 1,
   "id": "74c33081",
   "metadata": {},
   "outputs": [
    {
     "name": "stdout",
     "output_type": "stream",
     "text": [
      "Enter the String :hinkasv\n",
      "Enter the String :shivank\n",
      "Strings are Anagrams\n"
     ]
    }
   ],
   "source": [
    "##41.Check if two strings are anagrams\n",
    "String1 = sorted(str(input(\"Enter the String :\")))\n",
    "String2 = sorted(str(input(\"Enter the String :\")))\n",
    "if String1==String2:\n",
    "    print(\"Strings are Anagrams\")\n",
    "else:\n",
    "    print(\"Strings are not Anagrams\")"
   ]
  },
  {
   "cell_type": "code",
   "execution_count": 17,
   "id": "de1358b2",
   "metadata": {},
   "outputs": [],
   "source": [
    "##42.Encode a string using a Caesar Cipher"
   ]
  },
  {
   "cell_type": "code",
   "execution_count": 16,
   "id": "ba96d139",
   "metadata": {},
   "outputs": [
    {
     "name": "stdout",
     "output_type": "stream",
     "text": [
      "Enter message : SHIVANK\n",
      "Enter the Key : 1\n",
      "Encrypted Message is TIJWBOL\n"
     ]
    }
   ],
   "source": [
    "alphabets = \"ABCDEFGHIJKLMNOPQRSTUVWXYZ\"\n",
    "new_message=\"\"\n",
    "\n",
    "input_str = str(input(\"Enter message : \")).upper()\n",
    "key=int(input(\"Enter the Key : \"))\n",
    "\n",
    "for i in input_str:\n",
    "    if i in alphabets:\n",
    "        position=alphabets.find(i)\n",
    "        new_position=(position+key)%26\n",
    "        new_character=alphabets[new_position]\n",
    "        new_message +=new_character\n",
    "print(\"Encrypted Message is\",new_message)"
   ]
  },
  {
   "cell_type": "code",
   "execution_count": 18,
   "id": "affd68bd",
   "metadata": {},
   "outputs": [],
   "source": [
    "##43.Decode a Caesar Cipher Encoded String"
   ]
  },
  {
   "cell_type": "code",
   "execution_count": 19,
   "id": "5f51cad5",
   "metadata": {},
   "outputs": [
    {
     "name": "stdout",
     "output_type": "stream",
     "text": [
      "Enter message : TIJWBOL\n",
      "Enter the Key : 1\n",
      "Encrypted Message is SHIVANK\n"
     ]
    }
   ],
   "source": [
    "alphabets = \"ABCDEFGHIJKLMNOPQRSTUVWXYZ\"\n",
    "new_message=\"\"\n",
    "\n",
    "input_str = str(input(\"Enter message : \")).upper()\n",
    "key=int(input(\"Enter the Key : \"))\n",
    "\n",
    "for i in input_str:\n",
    "    if i in alphabets:\n",
    "        position=alphabets.find(i)\n",
    "        new_position=(position-key)%26\n",
    "        new_character=alphabets[new_position]\n",
    "        new_message +=new_character\n",
    "print(\"Encrypted Message is\",new_message)"
   ]
  },
  {
   "cell_type": "code",
   "execution_count": 23,
   "id": "dfe5f400",
   "metadata": {},
   "outputs": [],
   "source": [
    "##44.Find the Most Frequent word in String"
   ]
  },
  {
   "cell_type": "code",
   "execution_count": 34,
   "id": "65aaadc8",
   "metadata": {},
   "outputs": [
    {
     "name": "stdout",
     "output_type": "stream",
     "text": [
      "[('many', 3)]\n"
     ]
    }
   ],
   "source": [
    "from collections import Counter\n",
    "data_set = \"Python is a programming language having many libaries and many datatypes & many inbuilt functions\"\n",
    "split=data_set.split()\n",
    "Counter=Counter(split)\n",
    "most_occur=Counter.most_common(1)\n",
    "print(most_occur)"
   ]
  },
  {
   "cell_type": "code",
   "execution_count": 4,
   "id": "5b349520",
   "metadata": {},
   "outputs": [],
   "source": [
    "##45.Find all unique words in a string"
   ]
  },
  {
   "cell_type": "code",
   "execution_count": 40,
   "id": "035d9af3",
   "metadata": {},
   "outputs": [
    {
     "name": "stdout",
     "output_type": "stream",
     "text": [
      "Unique Words :  {'this', 'a', 'is'}\n"
     ]
    }
   ],
   "source": [
    "def Uniqueword(l):\n",
    "    for i in l:\n",
    "        print(i)\n",
    "str = \"is this a is\"\n",
    "s = str.split(\" \")\n",
    "print(\"Unique Words : \",set(s))"
   ]
  },
  {
   "cell_type": "code",
   "execution_count": null,
   "id": "132eebdf",
   "metadata": {},
   "outputs": [],
   "source": [
    "##46.Count the number of syllables in a string"
   ]
  },
  {
   "cell_type": "code",
   "execution_count": 41,
   "id": "07592ac7",
   "metadata": {},
   "outputs": [
    {
     "name": "stdout",
     "output_type": "stream",
     "text": [
      "Enter the word:Python\n",
      "The number of syllables in the string is: \n",
      "1\n"
     ]
    }
   ],
   "source": [
    "String=input(\"Enter the word:\")\n",
    "syllable_count=0\n",
    "for i in String:\n",
    "      if(i=='a' or i=='e' or i=='i' or i=='o' or i=='u' or i=='A' or i=='E' or i=='I' or i=='O' or i=='U'):\n",
    "            syllable_count=syllable_count+1\n",
    "print(\"The number of syllables in the string is: \")\n",
    "print(syllable_count)"
   ]
  },
  {
   "cell_type": "code",
   "execution_count": 26,
   "id": "e1b830b0",
   "metadata": {},
   "outputs": [],
   "source": [
    "##47.Check if a string contains any special characters"
   ]
  },
  {
   "cell_type": "code",
   "execution_count": 42,
   "id": "9f9e768a",
   "metadata": {},
   "outputs": [
    {
     "name": "stdout",
     "output_type": "stream",
     "text": [
      "Enter the string : shivank@12345\n",
      "Input String is  shivank@12345\n",
      "The string contains special character\n"
     ]
    }
   ],
   "source": [
    "import re\n",
    "String =  input('Enter the string : ')\n",
    "Special_char = re.compile('[@_!#$%^&*()<>?/\\|}{~:]')\n",
    "print(\"Input String is \", String)\n",
    "if(Special_char.search(String) == None):\n",
    "    print(\"The string does not contain special character\")\n",
    "else:\n",
    "    print(\"The string contains special character\")"
   ]
  },
  {
   "cell_type": "code",
   "execution_count": 2,
   "id": "24852ab3",
   "metadata": {},
   "outputs": [],
   "source": [
    "###48.Remove the nth word from a string"
   ]
  },
  {
   "cell_type": "code",
   "execution_count": 43,
   "id": "902e7462",
   "metadata": {},
   "outputs": [
    {
     "name": "stdout",
     "output_type": "stream",
     "text": [
      "Enter the sring:shivank\n",
      "Enter the index of the character to remove:4\n",
      "Modified string:\n",
      "shivnk\n"
     ]
    }
   ],
   "source": [
    "def remove(string, n):  \n",
    "      first = string[:n]   \n",
    "      last = string[n+1:]  \n",
    "      return first + last\n",
    "string=input(\"Enter the sring:\")\n",
    "n=int(input(\"Enter the index of the character to remove:\"))\n",
    "print(\"Modified string:\")\n",
    "print(remove(string, n))"
   ]
  },
  {
   "cell_type": "code",
   "execution_count": 5,
   "id": "51e0ac62",
   "metadata": {},
   "outputs": [],
   "source": [
    "###49.Insert a word at the nth position in a string"
   ]
  },
  {
   "cell_type": "code",
   "execution_count": 2,
   "id": "fae38d68",
   "metadata": {},
   "outputs": [
    {
     "name": "stdout",
     "output_type": "stream",
     "text": [
      "Enter the string : shivnk\n",
      "shivank\n"
     ]
    }
   ],
   "source": [
    "String =  input('Enter the string : ')\n",
    "New_string=String[:4]+\"a\"+String[4:]\n",
    "print(New_string)"
   ]
  },
  {
   "cell_type": "code",
   "execution_count": 23,
   "id": "9ffe6a06",
   "metadata": {},
   "outputs": [],
   "source": [
    "##50.Convert a CSV string to a list of lists"
   ]
  },
  {
   "cell_type": "code",
   "execution_count": 39,
   "id": "12878a86",
   "metadata": {},
   "outputs": [
    {
     "name": "stdout",
     "output_type": "stream",
     "text": [
      "['Fruit', 'Flower']\n",
      "['Cherry', 'Rose']\n",
      "['Apple', 'Lotus']\n",
      "['Banana', 'Lily']\n"
     ]
    }
   ],
   "source": [
    "def conversion(String):\n",
    "    Splitted_String = String.split('\\n')\n",
    "    Store = []\n",
    "    for line in Splitted_String:\n",
    "        Rows = line.split(',')\n",
    "        Store.append(Rows)\n",
    "    return Store\n",
    "Input_String = \"Fruit,Flower\\nCherry,Rose\\nApple,Lotus\\nBanana,Lily\"\n",
    "Converted_List = conversion(Input_String)\n",
    "for j in Converted_List:\n",
    "    print(j)"
   ]
  },
  {
   "cell_type": "code",
   "execution_count": 37,
   "id": "13308e36",
   "metadata": {},
   "outputs": [],
   "source": []
  },
  {
   "cell_type": "markdown",
   "id": "234bda1a",
   "metadata": {},
   "source": [
    "# List Based Assignment Problems"
   ]
  },
  {
   "cell_type": "code",
   "execution_count": 40,
   "id": "11aa46d3",
   "metadata": {},
   "outputs": [],
   "source": [
    "###1.Create a list with integers from 1 to 10"
   ]
  },
  {
   "cell_type": "code",
   "execution_count": 44,
   "id": "c7f420ed",
   "metadata": {},
   "outputs": [
    {
     "name": "stdout",
     "output_type": "stream",
     "text": [
      "[1, 2, 3, 4, 5, 6, 7, 8, 9]\n"
     ]
    }
   ],
   "source": [
    "Numbers=range(1,10)\n",
    "print(list(Numbers))"
   ]
  },
  {
   "cell_type": "code",
   "execution_count": 43,
   "id": "aada559c",
   "metadata": {},
   "outputs": [],
   "source": [
    "###2.Find the length of a list without using the Len() function"
   ]
  },
  {
   "cell_type": "code",
   "execution_count": 48,
   "id": "587b5df0",
   "metadata": {},
   "outputs": [
    {
     "name": "stdout",
     "output_type": "stream",
     "text": [
      "Length of the List :  9\n"
     ]
    }
   ],
   "source": [
    "List=[1,2,3,4,5,6,7,8,9]\n",
    "count=0\n",
    "for i in List:\n",
    "    count=count+1\n",
    "print(\"Length of the List : \",count)"
   ]
  },
  {
   "cell_type": "code",
   "execution_count": null,
   "id": "2e25db6c",
   "metadata": {},
   "outputs": [],
   "source": [
    "##3.Append an element to the end of a list"
   ]
  },
  {
   "cell_type": "code",
   "execution_count": 49,
   "id": "1cfbb338",
   "metadata": {},
   "outputs": [
    {
     "name": "stdout",
     "output_type": "stream",
     "text": [
      "[1, 2, 3, 4, 5, 6, 7, 8, 9, 10]\n"
     ]
    }
   ],
   "source": [
    "List=[1,2,3,4,5,6,7,8,9]\n",
    "List.append(10)\n",
    "print(List)"
   ]
  },
  {
   "cell_type": "code",
   "execution_count": 57,
   "id": "be61c7f1",
   "metadata": {},
   "outputs": [],
   "source": [
    "###4.Insert an element at a specific index in a list"
   ]
  },
  {
   "cell_type": "code",
   "execution_count": 50,
   "id": "46cdd1f0",
   "metadata": {},
   "outputs": [
    {
     "name": "stdout",
     "output_type": "stream",
     "text": [
      "[1, 2, 3, 4, 4.5, 5, 6, 7, 8, 9]\n"
     ]
    }
   ],
   "source": [
    "List=[1,2,3,4,5,6,7,8,9]\n",
    "List.insert(4,4.5)\n",
    "print(List)"
   ]
  },
  {
   "cell_type": "code",
   "execution_count": 60,
   "id": "362603eb",
   "metadata": {},
   "outputs": [],
   "source": [
    "###5.Remove an element from a list by its value"
   ]
  },
  {
   "cell_type": "code",
   "execution_count": 51,
   "id": "39feaa05",
   "metadata": {},
   "outputs": [
    {
     "name": "stdout",
     "output_type": "stream",
     "text": [
      "[1, 2, 3, 4, 6, 7, 8, 9]\n"
     ]
    }
   ],
   "source": [
    "List=[1,2,3,4,5,6,7,8,9]\n",
    "List.remove(5)\n",
    "print(List)"
   ]
  },
  {
   "cell_type": "code",
   "execution_count": 63,
   "id": "ecc35bd9",
   "metadata": {},
   "outputs": [],
   "source": [
    "###6.Remove an element from a list by its index"
   ]
  },
  {
   "cell_type": "code",
   "execution_count": 52,
   "id": "0b5e50c4",
   "metadata": {},
   "outputs": [
    {
     "name": "stdout",
     "output_type": "stream",
     "text": [
      "[1, 2, 4, 5, 6, 7, 8, 9]\n"
     ]
    }
   ],
   "source": [
    "List=[1,2,3,4,5,6,7,8,9]\n",
    "List.pop(2)\n",
    "print(List)"
   ]
  },
  {
   "cell_type": "code",
   "execution_count": null,
   "id": "251c6a76",
   "metadata": {},
   "outputs": [],
   "source": [
    "###7.Check if an element exists in a list."
   ]
  },
  {
   "cell_type": "code",
   "execution_count": 53,
   "id": "3cffe5d5",
   "metadata": {},
   "outputs": [
    {
     "name": "stdout",
     "output_type": "stream",
     "text": [
      "Element Doesn't Exist\n"
     ]
    }
   ],
   "source": [
    "List=[1,2,3,4,5,6,7,8,9]\n",
    "Element=0\n",
    "if Element in List:\n",
    "    print(\"Element Exists\")\n",
    "else:\n",
    "    print(\"Element Doesn't Exist\")"
   ]
  },
  {
   "cell_type": "code",
   "execution_count": 70,
   "id": "72d6b323",
   "metadata": {},
   "outputs": [],
   "source": [
    "##8.Find the index of the first occurrence of an element in a list"
   ]
  },
  {
   "cell_type": "code",
   "execution_count": 54,
   "id": "fa0436ba",
   "metadata": {},
   "outputs": [
    {
     "name": "stdout",
     "output_type": "stream",
     "text": [
      "Index :  1\n"
     ]
    }
   ],
   "source": [
    "List=[1,2,3,4,5,6,7,8,9]\n",
    "Element=2\n",
    "Index=List.index(Element)\n",
    "print(\"Index : \",Index)"
   ]
  },
  {
   "cell_type": "code",
   "execution_count": null,
   "id": "53beb5f6",
   "metadata": {},
   "outputs": [],
   "source": [
    "###9.Count the occurrences of an element in a list"
   ]
  },
  {
   "cell_type": "code",
   "execution_count": 55,
   "id": "dbe684cd",
   "metadata": {},
   "outputs": [
    {
     "name": "stdout",
     "output_type": "stream",
     "text": [
      "Occurence Count:  3\n"
     ]
    }
   ],
   "source": [
    "List=[1,2,3,4,5,6,7,8,9,2,5,6,2,9,13,65,32,19,32]\n",
    "Element=2\n",
    "Count=List.count(Element)\n",
    "print(\"Occurence Count: \",Count)"
   ]
  },
  {
   "cell_type": "code",
   "execution_count": 83,
   "id": "fb245830",
   "metadata": {},
   "outputs": [],
   "source": [
    "###10.Reverse the order of elements in a list"
   ]
  },
  {
   "cell_type": "code",
   "execution_count": 56,
   "id": "30233b5f",
   "metadata": {},
   "outputs": [
    {
     "name": "stdout",
     "output_type": "stream",
     "text": [
      "[32, 19, 32, 65, 13, 9, 2, 6, 5, 2, 9, 8, 7, 6, 5, 4, 3, 2, 1]\n"
     ]
    }
   ],
   "source": [
    "List=[1,2,3,4,5,6,7,8,9,2,5,6,2,9,13,65,32,19,32]\n",
    "List.reverse()\n",
    "print(List)"
   ]
  },
  {
   "cell_type": "code",
   "execution_count": 88,
   "id": "821d0d3a",
   "metadata": {},
   "outputs": [],
   "source": [
    "###11.Sort a list in ascending order"
   ]
  },
  {
   "cell_type": "code",
   "execution_count": 57,
   "id": "8101e21d",
   "metadata": {},
   "outputs": [
    {
     "name": "stdout",
     "output_type": "stream",
     "text": [
      "[1, 2, 2, 2, 3, 4, 5, 5, 6, 6, 7, 8, 9, 9, 13, 19, 32, 32, 65]\n"
     ]
    }
   ],
   "source": [
    "List=[1,2,3,4,5,6,7,8,9,2,5,6,2,9,13,65,32,19,32]\n",
    "List.sort()\n",
    "print(List)"
   ]
  },
  {
   "cell_type": "code",
   "execution_count": 90,
   "id": "615e892c",
   "metadata": {},
   "outputs": [],
   "source": [
    "###12.Sort a list in descending order"
   ]
  },
  {
   "cell_type": "code",
   "execution_count": 58,
   "id": "f26437b0",
   "metadata": {},
   "outputs": [
    {
     "name": "stdout",
     "output_type": "stream",
     "text": [
      "[65, 32, 32, 19, 13, 9, 9, 8, 7, 6, 6, 5, 5, 4, 3, 2, 2, 2, 1]\n"
     ]
    }
   ],
   "source": [
    "List=[1,2,3,4,5,6,7,8,9,2,5,6,2,9,13,65,32,19,32]\n",
    "List.sort(reverse=True)\n",
    "print(List)"
   ]
  },
  {
   "cell_type": "code",
   "execution_count": 92,
   "id": "2e336da9",
   "metadata": {},
   "outputs": [],
   "source": [
    "###13.Create a list of even numbers from 1 to 20"
   ]
  },
  {
   "cell_type": "code",
   "execution_count": 59,
   "id": "982f39fc",
   "metadata": {},
   "outputs": [
    {
     "data": {
      "text/plain": [
       "[2, 4, 6, 8, 10, 12, 14, 16, 18, 20]"
      ]
     },
     "execution_count": 59,
     "metadata": {},
     "output_type": "execute_result"
    }
   ],
   "source": [
    "My_list=range(2,21,2)\n",
    "list(My_list)"
   ]
  },
  {
   "cell_type": "code",
   "execution_count": 105,
   "id": "139a2ac5",
   "metadata": {},
   "outputs": [],
   "source": [
    "###14.Create a list of odd numbers from 1 to 20"
   ]
  },
  {
   "cell_type": "code",
   "execution_count": 60,
   "id": "16ea2629",
   "metadata": {},
   "outputs": [
    {
     "data": {
      "text/plain": [
       "[1, 3, 5, 7, 9, 11, 13, 15, 17, 19]"
      ]
     },
     "execution_count": 60,
     "metadata": {},
     "output_type": "execute_result"
    }
   ],
   "source": [
    "My_list=range(1,20,2)\n",
    "list(My_list)"
   ]
  },
  {
   "cell_type": "code",
   "execution_count": 107,
   "id": "26073648",
   "metadata": {},
   "outputs": [],
   "source": [
    "###15.Find the sum of all elements in a list"
   ]
  },
  {
   "cell_type": "code",
   "execution_count": 61,
   "id": "2c3445ba",
   "metadata": {},
   "outputs": [
    {
     "name": "stdout",
     "output_type": "stream",
     "text": [
      "Sum of all elements is :  230\n"
     ]
    }
   ],
   "source": [
    "List=[1,2,3,4,5,6,7,8,9,2,5,6,2,9,13,65,32,19,32]\n",
    "Sum=sum(List)\n",
    "print(\"Sum of all elements is : \",Sum)"
   ]
  },
  {
   "cell_type": "code",
   "execution_count": 109,
   "id": "3025b5b1",
   "metadata": {},
   "outputs": [],
   "source": [
    "###16.Find the maximum value in a list"
   ]
  },
  {
   "cell_type": "code",
   "execution_count": 62,
   "id": "6aba5f2a",
   "metadata": {},
   "outputs": [
    {
     "name": "stdout",
     "output_type": "stream",
     "text": [
      "Max value in list :  65\n"
     ]
    }
   ],
   "source": [
    "List=[1,2,3,4,5,6,7,8,9,2,5,6,2,9,13,65,32,19,32]\n",
    "Max=max(List)\n",
    "print(\"Max value in list : \",Max)"
   ]
  },
  {
   "cell_type": "code",
   "execution_count": 111,
   "id": "9691e1f2",
   "metadata": {},
   "outputs": [],
   "source": [
    "###17.Find the minimum value in a list"
   ]
  },
  {
   "cell_type": "code",
   "execution_count": 63,
   "id": "973a9afe",
   "metadata": {},
   "outputs": [
    {
     "name": "stdout",
     "output_type": "stream",
     "text": [
      "Min value in list :  1\n"
     ]
    }
   ],
   "source": [
    "List=[1,2,3,4,5,6,7,8,9,2,5,6,2,9,13,65,32,19,32]\n",
    "Min=min(List)\n",
    "print(\"Min value in list : \",Min)"
   ]
  },
  {
   "cell_type": "code",
   "execution_count": 113,
   "id": "26a6214c",
   "metadata": {},
   "outputs": [],
   "source": [
    "###18.Create a list of squares of numbers from 1 to 10"
   ]
  },
  {
   "cell_type": "code",
   "execution_count": 74,
   "id": "ec20494b",
   "metadata": {},
   "outputs": [
    {
     "name": "stdout",
     "output_type": "stream",
     "text": [
      "Square of numbers :  [1, 4, 9, 16, 25, 36, 49, 64, 81, 4, 25, 36, 4, 81, 169, 4225, 1024, 361, 1024]\n"
     ]
    }
   ],
   "source": [
    "List=[1,2,3,4,5,6,7,8,9,2,5,6,2,9,13,65,32,19,32]\n",
    "Square=[x**2 for x in List]\n",
    "print(\"Square of numbers : \",Square)"
   ]
  },
  {
   "cell_type": "code",
   "execution_count": 117,
   "id": "ff3aba9f",
   "metadata": {},
   "outputs": [],
   "source": [
    "##19.Create a list of random numbers"
   ]
  },
  {
   "cell_type": "code",
   "execution_count": 73,
   "id": "43a20960",
   "metadata": {},
   "outputs": [
    {
     "name": "stdout",
     "output_type": "stream",
     "text": [
      "Random List :  [13, 30, 12, 31, 40, 16, 22, 37, 26, 23, 41, 27, 29, 46, 3, 38, 19, 43, 17, 18]\n"
     ]
    }
   ],
   "source": [
    "import random\n",
    "rand_list=random.sample(range(1,50),20)\n",
    "print(\"Random List : \",rand_list)"
   ]
  },
  {
   "cell_type": "code",
   "execution_count": 121,
   "id": "2922c321",
   "metadata": {},
   "outputs": [],
   "source": [
    "###20.Remove duplicates from a list"
   ]
  },
  {
   "cell_type": "code",
   "execution_count": 72,
   "id": "14caa020",
   "metadata": {},
   "outputs": [
    {
     "name": "stdout",
     "output_type": "stream",
     "text": [
      "List After Removing Duplicates :  [32, 1, 2, 3, 4, 5, 6, 7, 8, 9, 65, 13, 19]\n"
     ]
    }
   ],
   "source": [
    "List=[1,2,3,4,5,6,7,8,9,2,5,6,2,9,13,65,32,19,32]\n",
    "Unique=list(set(List))\n",
    "print(\"List After Removing Duplicates : \",Unique)"
   ]
  },
  {
   "cell_type": "code",
   "execution_count": 126,
   "id": "c01728f5",
   "metadata": {},
   "outputs": [],
   "source": [
    "###21.Find the common elements between two lists"
   ]
  },
  {
   "cell_type": "code",
   "execution_count": 71,
   "id": "d9eabf2c",
   "metadata": {},
   "outputs": [
    {
     "name": "stdout",
     "output_type": "stream",
     "text": [
      "Common Elements :  {1, 2, 3, 4, 5, 6, 8, 9}\n"
     ]
    }
   ],
   "source": [
    "List1=[1,2,3,4,5,6,7,8,9,2,5,6,2,9,13,65,32,19,32]\n",
    "List2=[1,2,3,4,8,9,2,5,6,2,9]\n",
    "common=set(List1).intersection(List2)\n",
    "print(\"Common Elements : \",common)"
   ]
  },
  {
   "cell_type": "code",
   "execution_count": 128,
   "id": "68bfe55d",
   "metadata": {},
   "outputs": [],
   "source": [
    "##22.Find the difference between two lists"
   ]
  },
  {
   "cell_type": "code",
   "execution_count": 70,
   "id": "4a51b7a7",
   "metadata": {},
   "outputs": [
    {
     "name": "stdout",
     "output_type": "stream",
     "text": [
      "Difference :  [32, 65, 7, 13, 19]\n"
     ]
    }
   ],
   "source": [
    "List1=[1,2,3,4,5,6,7,8,9,2,5,6,2,9,13,65,32,19,32]\n",
    "List2=[1,2,3,4,8,9,2,5,6,2,9]\n",
    "Diff=list(set(List1).difference(List2))\n",
    "print(\"Difference : \",Diff)"
   ]
  },
  {
   "cell_type": "code",
   "execution_count": 130,
   "id": "bf5fa132",
   "metadata": {},
   "outputs": [],
   "source": [
    "###23.Merge two lists"
   ]
  },
  {
   "cell_type": "code",
   "execution_count": 69,
   "id": "4330b0c6",
   "metadata": {},
   "outputs": [
    {
     "name": "stdout",
     "output_type": "stream",
     "text": [
      "Merged List :  [1, 2, 3, 4, 5, 6, 7, 8, 9, 2, 5, 6, 2, 9, 13, 65, 32, 19, 32, 1, 2, 3, 4, 8, 9, 2, 5, 6, 2, 9]\n"
     ]
    }
   ],
   "source": [
    "List1=[1,2,3,4,5,6,7,8,9,2,5,6,2,9,13,65,32,19,32]\n",
    "List2=[1,2,3,4,8,9,2,5,6,2,9]\n",
    "Merged=List1+List2\n",
    "print(\"Merged List : \",Merged)"
   ]
  },
  {
   "cell_type": "code",
   "execution_count": 133,
   "id": "e56a75c3",
   "metadata": {},
   "outputs": [],
   "source": [
    "###24.Multiply all elements in a list by 2"
   ]
  },
  {
   "cell_type": "code",
   "execution_count": 76,
   "id": "faf96c98",
   "metadata": {},
   "outputs": [
    {
     "name": "stdout",
     "output_type": "stream",
     "text": [
      "List after Multiplication :  [2, 4, 6, 8, 10, 12, 14, 16, 18, 4, 10, 12, 4, 18, 26, 130, 64, 38, 64]\n"
     ]
    }
   ],
   "source": [
    "List1=[1,2,3,4,5,6,7,8,9,2,5,6,2,9,13,65,32,19,32]\n",
    "Multiply=[i *2 for i in List1]\n",
    "print(\"List after Multiplication : \",Multiply)"
   ]
  },
  {
   "cell_type": "code",
   "execution_count": 137,
   "id": "0549814c",
   "metadata": {},
   "outputs": [],
   "source": [
    "###25.Filter out all even numbers from a list"
   ]
  },
  {
   "cell_type": "code",
   "execution_count": 79,
   "id": "f4b744e9",
   "metadata": {},
   "outputs": [
    {
     "name": "stdout",
     "output_type": "stream",
     "text": [
      "List after filtering out even numbers :  [1, 3, 5, 7, 9, 5, 9, 13, 65, 19]\n"
     ]
    }
   ],
   "source": [
    "List1=[1,2,3,4,5,6,7,8,9,2,5,6,2,9,13,65,32,19,32]\n",
    "Odd=[i for i in List1 if i%2!=0]\n",
    "print(\"List after filtering out even numbers : \",Odd)"
   ]
  },
  {
   "cell_type": "code",
   "execution_count": 142,
   "id": "de63a936",
   "metadata": {},
   "outputs": [],
   "source": [
    "###26.Convert a list of strings to a list of integers"
   ]
  },
  {
   "cell_type": "code",
   "execution_count": 90,
   "id": "b9f85110",
   "metadata": {},
   "outputs": [
    {
     "name": "stdout",
     "output_type": "stream",
     "text": [
      "List of integers :  [1, 2, 3, 4, 5, 6, 7, 8, 9, 2, 5, 6, 2, 9, 13, 65, 32, 19, 32]\n"
     ]
    }
   ],
   "source": [
    "List1=[\"1\",\"2\",\"3\",\"4\",\"5\",\"6\",\"7\",\"8\",\"9\",\"2\",\"5\",\"6\",\"2\",\"9\",\"13\",\"65\",\"32\",\"19\",\"32\"]\n",
    "Listofintegers=[int(i) for i in List1]\n",
    "print(\"List of integers : \",Listofintegers)"
   ]
  },
  {
   "cell_type": "code",
   "execution_count": 144,
   "id": "2b26c3ee",
   "metadata": {},
   "outputs": [],
   "source": [
    "##27.Convert a list of integers to a list of strings"
   ]
  },
  {
   "cell_type": "code",
   "execution_count": 1,
   "id": "50f5139b",
   "metadata": {},
   "outputs": [
    {
     "name": "stdout",
     "output_type": "stream",
     "text": [
      "['1', '2', '3', '4', '5', '6', '7', '8', '9', '2', '5', '6', '2', '9', '13', '65', '32', '19', '32']\n"
     ]
    }
   ],
   "source": [
    "List1=[1, 2, 3, 4, 5, 6, 7, 8, 9, 2, 5, 6, 2, 9, 13, 65, 32, 19, 32]\n",
    "Listofstrings=[str(i) for i in List1]\n",
    "print(Listofstrings)"
   ]
  },
  {
   "cell_type": "code",
   "execution_count": 147,
   "id": "8246d4bb",
   "metadata": {},
   "outputs": [],
   "source": [
    "###28.Flatten a nested list"
   ]
  },
  {
   "cell_type": "code",
   "execution_count": 100,
   "id": "534518c5",
   "metadata": {},
   "outputs": [
    {
     "name": "stdout",
     "output_type": "stream",
     "text": [
      "[1, 2, 7, 9, 4, 5, 7, 1, 9, 3, 4, 6, 9, 1]\n"
     ]
    }
   ],
   "source": [
    "List=[[1,2,7,9,4,5],[7,1,9,3],[4,6,9,1]]\n",
    "Flat_List=[i for Sublist in List for i in Sublist]\n",
    "print(Flat_List)"
   ]
  },
  {
   "cell_type": "code",
   "execution_count": 150,
   "id": "b7bcd1ee",
   "metadata": {},
   "outputs": [],
   "source": [
    "###29.Create a list of the first 10 Fibonacci numbers"
   ]
  },
  {
   "cell_type": "code",
   "execution_count": 101,
   "id": "ca9b0cda",
   "metadata": {},
   "outputs": [
    {
     "name": "stdout",
     "output_type": "stream",
     "text": [
      "Enter the count of Fibonacci Series Numbers : 5\n",
      "[0, 1, 1, 2, 3]\n"
     ]
    }
   ],
   "source": [
    "x=0\n",
    "y=1\n",
    "number=int(input(\"Enter the count of Fibonacci Series Numbers : \"))\n",
    "i=2\n",
    "List=[x,y]\n",
    "while i<number:\n",
    "    fibonacci=x+y\n",
    "    List.append(fibonacci)\n",
    "    x=y\n",
    "    y=fibonacci\n",
    "    i=i+1\n",
    "print(List)"
   ]
  },
  {
   "cell_type": "code",
   "execution_count": 155,
   "id": "e1e2ea38",
   "metadata": {},
   "outputs": [],
   "source": [
    "###30.Check If a list is sorted"
   ]
  },
  {
   "cell_type": "code",
   "execution_count": 102,
   "id": "6c571e5e",
   "metadata": {},
   "outputs": [
    {
     "name": "stdout",
     "output_type": "stream",
     "text": [
      "List is not sorted\n"
     ]
    }
   ],
   "source": [
    "List1=[1, 2, 3, 4, 5, 6, 7, 8, 9, 2, 5, 6, 2, 9, 13, 65, 32, 19, 32]\n",
    "List2=list.sort(List1)\n",
    "if List1==List2:\n",
    "    print(\"List is sorted\")\n",
    "else:\n",
    "    print(\"List is not sorted\")"
   ]
  },
  {
   "cell_type": "code",
   "execution_count": 157,
   "id": "70fe1d7b",
   "metadata": {},
   "outputs": [],
   "source": [
    "###31.Rotate a list to the left by 'n' position"
   ]
  },
  {
   "cell_type": "code",
   "execution_count": 103,
   "id": "b8e22049",
   "metadata": {},
   "outputs": [
    {
     "name": "stdout",
     "output_type": "stream",
     "text": [
      "Enter the number to rotate left : 2\n",
      "[3, 4, 5, 6, 7, 8, 9, 2, 5, 6, 2, 9, 13, 65, 32, 19, 32, 1, 2]\n"
     ]
    }
   ],
   "source": [
    "List1=[1, 2, 3, 4, 5, 6, 7, 8, 9, 2, 5, 6, 2, 9, 13, 65, 32, 19, 32]\n",
    "n=int(input(\"Enter the number to rotate left : \"))\n",
    "Rotated_List=List1[n:]+List1[:n]\n",
    "print(Rotated_List)"
   ]
  },
  {
   "cell_type": "code",
   "execution_count": 170,
   "id": "c7af2354",
   "metadata": {},
   "outputs": [],
   "source": [
    "###32.Rotate a list to the right by 'n' position"
   ]
  },
  {
   "cell_type": "code",
   "execution_count": 171,
   "id": "74dcfcaa",
   "metadata": {},
   "outputs": [
    {
     "name": "stdout",
     "output_type": "stream",
     "text": [
      "Enter the number to rotate right : 1\n",
      "[32, 1, 2, 3, 4, 5, 6, 7, 8, 9, 2, 5, 6, 2, 9, 13, 65, 32, 19]\n"
     ]
    }
   ],
   "source": [
    "List1=[1, 2, 3, 4, 5, 6, 7, 8, 9, 2, 5, 6, 2, 9, 13, 65, 32, 19, 32]\n",
    "n=int(input(\"Enter the number to rotate right : \"))\n",
    "Rotated_List=List1[-n:]+List1[:-n]\n",
    "print(Rotated_List)"
   ]
  },
  {
   "cell_type": "code",
   "execution_count": 172,
   "id": "6bcf5552",
   "metadata": {},
   "outputs": [],
   "source": [
    "###33.Create a list of prime numbers up to 50"
   ]
  },
  {
   "cell_type": "code",
   "execution_count": 180,
   "id": "7a9abcdf",
   "metadata": {
    "scrolled": true
   },
   "outputs": [
    {
     "name": "stdout",
     "output_type": "stream",
     "text": [
      "2,3,5,7,11,13,17,19,23,29,31,37,41,43,47,"
     ]
    }
   ],
   "source": [
    "for i in range(2,51):\n",
    "    for j in range(2,51):\n",
    "        if i%j==0:\n",
    "            break\n",
    "    if i==j:\n",
    "        print(i,end=\",\")"
   ]
  },
  {
   "cell_type": "code",
   "execution_count": 184,
   "id": "9d037c92",
   "metadata": {},
   "outputs": [],
   "source": [
    "###34.Split a list into chunks of size 'n'"
   ]
  },
  {
   "cell_type": "code",
   "execution_count": 198,
   "id": "502c60b1",
   "metadata": {},
   "outputs": [
    {
     "name": "stdout",
     "output_type": "stream",
     "text": [
      "[[10, 20, 30, 40], [50, 60, 70, 80], [90, 100]]\n"
     ]
    }
   ],
   "source": [
    "List = [10, 20, 30, 40, 50, 60, 70, 80, 90, 100]    \n",
    "chunk_size = 4  \n",
    "New_List = []  \n",
    "i = 0  \n",
    "while i < len(List):  \n",
    "    ch = List[i:i+chunk_size]  \n",
    "    New_List.append(ch)  \n",
    "    i = i + chunk_size  \n",
    "print(New_List)"
   ]
  },
  {
   "cell_type": "code",
   "execution_count": 199,
   "id": "938c61ad",
   "metadata": {},
   "outputs": [],
   "source": [
    "###35.Find the second largest number in a list"
   ]
  },
  {
   "cell_type": "code",
   "execution_count": 211,
   "id": "93ead6df",
   "metadata": {},
   "outputs": [
    {
     "name": "stdout",
     "output_type": "stream",
     "text": [
      "[10, 20, 30, 40, 50, 60, 70, 80, 90, 100]\n",
      "Second largest Number is : 90\n"
     ]
    }
   ],
   "source": [
    "List = [10, 20, 30, 40, 50, 60, 70, 80, 90, 100]\n",
    "my_list=sorted(set(List))\n",
    "print(my_list)\n",
    "if len(my_list)>=2:\n",
    "    second_largest=my_list[-2]\n",
    "    print(\"Second largest Number is :\",second_largest)\n",
    "else:\n",
    "    print(\"List has less than 2 elements\")"
   ]
  },
  {
   "cell_type": "code",
   "execution_count": 212,
   "id": "031f6f4b",
   "metadata": {},
   "outputs": [],
   "source": [
    "###36.Replace every element in a list with its square"
   ]
  },
  {
   "cell_type": "code",
   "execution_count": 213,
   "id": "7d992b3f",
   "metadata": {},
   "outputs": [
    {
     "name": "stdout",
     "output_type": "stream",
     "text": [
      "Squared :  [100, 400, 900, 1600, 2500, 3600, 4900, 6400, 8100, 10000]\n"
     ]
    }
   ],
   "source": [
    "List = [10, 20, 30, 40, 50, 60, 70, 80, 90, 100]\n",
    "Square=[i**2 for i in List]\n",
    "print(\"Squared : \",Square)\n"
   ]
  },
  {
   "cell_type": "code",
   "execution_count": 214,
   "id": "7b54aa95",
   "metadata": {},
   "outputs": [],
   "source": [
    "###37.Convert a list to a dictionary where list elements become keys and their indices become values"
   ]
  },
  {
   "cell_type": "code",
   "execution_count": 218,
   "id": "0f062ffa",
   "metadata": {},
   "outputs": [
    {
     "name": "stdout",
     "output_type": "stream",
     "text": [
      "{10: 0, 20: 1, 30: 2, 40: 3, 50: 4, 60: 5, 70: 6, 80: 7, 90: 8, 100: 9}\n"
     ]
    }
   ],
   "source": [
    "List = [10, 20, 30, 40, 50, 60, 70, 80, 90, 100]\n",
    "dict = {value:i for i, value in enumerate(List)}\n",
    "print(dict)"
   ]
  },
  {
   "cell_type": "code",
   "execution_count": 219,
   "id": "4a97bb43",
   "metadata": {},
   "outputs": [],
   "source": [
    "##38.Shuffle the elements of a list randomly"
   ]
  },
  {
   "cell_type": "code",
   "execution_count": 224,
   "id": "fe895fea",
   "metadata": {},
   "outputs": [
    {
     "name": "stdout",
     "output_type": "stream",
     "text": [
      "List after shuffle :  [100, 30, 70, 50, 10, 80, 40, 20, 90, 60]\n"
     ]
    }
   ],
   "source": [
    "import random\n",
    "List = [10, 20, 30, 40, 50, 60, 70, 80, 90, 100]\n",
    "random.shuffle(List)\n",
    "print(\"List after shuffle : \",List)"
   ]
  },
  {
   "cell_type": "code",
   "execution_count": 225,
   "id": "65aee63a",
   "metadata": {},
   "outputs": [],
   "source": [
    "###39.Create a list of the first 10 factorial numbers"
   ]
  },
  {
   "cell_type": "code",
   "execution_count": 104,
   "id": "6c25c7a8",
   "metadata": {},
   "outputs": [
    {
     "name": "stdout",
     "output_type": "stream",
     "text": [
      "List of the first 10 factorial numbers: [1, 1, 2, 6, 24, 120, 720, 5040, 40320, 362880]\n"
     ]
    }
   ],
   "source": [
    "def factorial(i):\n",
    "    if i==0 or i==1:\n",
    "        return 1\n",
    "    else:\n",
    "        return i*factorial(i-1)\n",
    "factorial_numbers = [factorial(j) for j in range(10)]\n",
    "print(\"List of the first 10 factorial numbers:\", factorial_numbers)"
   ]
  },
  {
   "cell_type": "code",
   "execution_count": 236,
   "id": "ef87c0a0",
   "metadata": {},
   "outputs": [],
   "source": [
    "###40.Check if two lists have at least one element in common"
   ]
  },
  {
   "cell_type": "code",
   "execution_count": 105,
   "id": "8d1d52d7",
   "metadata": {},
   "outputs": [
    {
     "name": "stdout",
     "output_type": "stream",
     "text": [
      "True\n"
     ]
    }
   ],
   "source": [
    "def common(list1, list2):\n",
    "    result = False\n",
    "    for x in list1:\n",
    "        for y in list2:\n",
    "            if x == y:\n",
    "                result = True\n",
    "                return result\n",
    "    return result\n",
    "list1=[1,2,3,4,5,6,7,8,9,2,5,6,2,9,13,65,32,19,32]\n",
    "list2=[1,2,3,4,8,9,2,5,6,2,9]\n",
    "print(common(list1, list2))"
   ]
  },
  {
   "cell_type": "code",
   "execution_count": 260,
   "id": "d4ab270c",
   "metadata": {},
   "outputs": [],
   "source": [
    "###41.Remove all elements from a list"
   ]
  },
  {
   "cell_type": "code",
   "execution_count": 106,
   "id": "0d0065be",
   "metadata": {},
   "outputs": [
    {
     "name": "stdout",
     "output_type": "stream",
     "text": [
      "[]\n"
     ]
    }
   ],
   "source": [
    "list1=[1,2,3,4,5,6,7,8,9,2,5,6,2,9,13,65,32,19,32]\n",
    "list1.clear()\n",
    "print(list1)"
   ]
  },
  {
   "cell_type": "code",
   "execution_count": 264,
   "id": "5f0d0fc1",
   "metadata": {},
   "outputs": [],
   "source": [
    "###42.Replace negative numbers in a list with 0"
   ]
  },
  {
   "cell_type": "code",
   "execution_count": 2,
   "id": "5875a4eb",
   "metadata": {},
   "outputs": [
    {
     "name": "stdout",
     "output_type": "stream",
     "text": [
      "[1, 2, 3, 4, 5, 6, 0, 8, 9, 2, 5, 0, 2, 9, 13, 0, 32, 19, 32]\n"
     ]
    }
   ],
   "source": [
    "list1=[1,2,3,4,5,6,-7,8,9,2,5,-6,2,9,13,-65,32,19,32]\n",
    "for i in range(len(list1)):\n",
    "    if list1[i]<0:\n",
    "        list1[i]=0\n",
    "print(list1)"
   ]
  },
  {
   "cell_type": "code",
   "execution_count": 280,
   "id": "304001af",
   "metadata": {},
   "outputs": [],
   "source": [
    "###43.Convert a string into a list of words"
   ]
  },
  {
   "cell_type": "code",
   "execution_count": 4,
   "id": "683adac2",
   "metadata": {},
   "outputs": [
    {
     "name": "stdout",
     "output_type": "stream",
     "text": [
      "Enter the string : python is a programming language\n",
      "List of words :  ['python', 'is', 'a', 'programming', 'language']\n"
     ]
    }
   ],
   "source": [
    "String=str(input(\"Enter the string : \"))\n",
    "Converted_string=String.split()\n",
    "print(\"List of words : \",Converted_string)"
   ]
  },
  {
   "cell_type": "code",
   "execution_count": 284,
   "id": "b3adc11d",
   "metadata": {},
   "outputs": [],
   "source": [
    "###44.Convert a list of words into a string"
   ]
  },
  {
   "cell_type": "code",
   "execution_count": 5,
   "id": "04663501",
   "metadata": {},
   "outputs": [
    {
     "name": "stdout",
     "output_type": "stream",
     "text": [
      "Python is a programming language\n"
     ]
    }
   ],
   "source": [
    "List=['Python', 'is', 'a', 'programming', 'language']\n",
    "String=\" \".join(List)\n",
    "print(String)"
   ]
  },
  {
   "cell_type": "code",
   "execution_count": 288,
   "id": "d49f266c",
   "metadata": {},
   "outputs": [],
   "source": [
    "##45.Create a list of the first n powers of 2"
   ]
  },
  {
   "cell_type": "code",
   "execution_count": 6,
   "id": "03b41e31",
   "metadata": {},
   "outputs": [
    {
     "name": "stdout",
     "output_type": "stream",
     "text": [
      "Enter the number : 8\n",
      "[1, 2, 4, 8, 16, 32, 64, 128]\n"
     ]
    }
   ],
   "source": [
    "n=int(input(\"Enter the number : \"))\n",
    "list=[2**i for i in range(n)]\n",
    "print(list)"
   ]
  },
  {
   "cell_type": "code",
   "execution_count": 291,
   "id": "0e0a8864",
   "metadata": {},
   "outputs": [],
   "source": [
    "###46.Find the longest string in a list of strings"
   ]
  },
  {
   "cell_type": "code",
   "execution_count": 7,
   "id": "26efc753",
   "metadata": {},
   "outputs": [
    {
     "name": "stdout",
     "output_type": "stream",
     "text": [
      "Longest String is :  programming\n"
     ]
    }
   ],
   "source": [
    "List=['Python', 'is', 'a', 'programming', 'language']\n",
    "Long=''\n",
    "for i in List:\n",
    "    if len(i)>len(Long):\n",
    "        Long=i\n",
    "print(\"Longest String is : \",Long)"
   ]
  },
  {
   "cell_type": "code",
   "execution_count": 305,
   "id": "28b1f0ae",
   "metadata": {},
   "outputs": [],
   "source": [
    "###47.Find the shortest string in a list of strings"
   ]
  },
  {
   "cell_type": "code",
   "execution_count": 8,
   "id": "b1200ec7",
   "metadata": {},
   "outputs": [
    {
     "name": "stdout",
     "output_type": "stream",
     "text": [
      "Shortest String is :  a\n"
     ]
    }
   ],
   "source": [
    "List=[\"Python\", \"is\", \"a\", \"programming\", \"language\"]\n",
    "Short=List[0]\n",
    "for i in List:\n",
    "    if len(i)<len(Short):\n",
    "        Short=i\n",
    "print(\"Shortest String is : \",Short)"
   ]
  },
  {
   "cell_type": "code",
   "execution_count": 315,
   "id": "0410c746",
   "metadata": {},
   "outputs": [],
   "source": [
    "###48.Create a list of the first n triangular numbers"
   ]
  },
  {
   "cell_type": "code",
   "execution_count": 9,
   "id": "f7b9cdef",
   "metadata": {},
   "outputs": [
    {
     "name": "stdout",
     "output_type": "stream",
     "text": [
      "Enter the Number : 6\n",
      "List of the  6 triangular numbers: [1, 3, 6, 10, 15, 21]\n"
     ]
    }
   ],
   "source": [
    "def triangular(n):\n",
    "    return [i * (i + 1) // 2 for i in range(1, n + 1)]\n",
    "n = int(input(\"Enter the Number : \"))\n",
    "triangular_list = triangular(n)\n",
    "print(\"List of the \", n, \"triangular numbers:\", triangular_list)"
   ]
  },
  {
   "cell_type": "code",
   "execution_count": 339,
   "id": "a8118f7f",
   "metadata": {},
   "outputs": [],
   "source": [
    "###49.Check if a list contains another list as a subsequence"
   ]
  },
  {
   "cell_type": "code",
   "execution_count": 17,
   "id": "97e8db19",
   "metadata": {},
   "outputs": [
    {
     "name": "stdout",
     "output_type": "stream",
     "text": [
      "Main list does not contain the subsequence\n"
     ]
    }
   ],
   "source": [
    "list1=[1, 2, 4, 8, 16, 32, 64, 128]\n",
    "sub1=[4,8,6]\n",
    "def subsequence(sub1,list1):\n",
    "    subseq=0\n",
    "    for i in list1:\n",
    "        if i==sub1[subseq]:\n",
    "            subseq=subseq+1\n",
    "            if subseq==len(sub1):\n",
    "                return True\n",
    "    return False\n",
    "if  subsequence(sub1,list1)  : \n",
    "    print(\"Main list contains the subsequence\")\n",
    "else:\n",
    "    print(\"Main list does not contain the subsequence\")"
   ]
  },
  {
   "cell_type": "code",
   "execution_count": 18,
   "id": "da595324",
   "metadata": {},
   "outputs": [],
   "source": [
    "###50.Swap two elements in a list by their indices"
   ]
  },
  {
   "cell_type": "code",
   "execution_count": 20,
   "id": "1d87b85c",
   "metadata": {},
   "outputs": [
    {
     "name": "stdout",
     "output_type": "stream",
     "text": [
      "List after swapping elements by indices :  [1, 2, 4, 32, 16, 8, 64, 128]\n"
     ]
    }
   ],
   "source": [
    "list1=[1, 2, 4, 8, 16, 32, 64, 128]\n",
    "index1=5\n",
    "index2=3\n",
    "x=list1[index1]\n",
    "list1[index1]=list1[index2]\n",
    "list1[index2]=x\n",
    "print(\"List after swapping elements by indices : \",list1)"
   ]
  },
  {
   "cell_type": "markdown",
   "id": "a21998a9",
   "metadata": {},
   "source": [
    "# Tuple Based Assignment Problems"
   ]
  },
  {
   "cell_type": "code",
   "execution_count": 341,
   "id": "0bb42d91",
   "metadata": {},
   "outputs": [],
   "source": [
    "###1.Create a tuple with integers from 1 to 5"
   ]
  },
  {
   "cell_type": "code",
   "execution_count": 21,
   "id": "6f257e73",
   "metadata": {},
   "outputs": [
    {
     "name": "stdout",
     "output_type": "stream",
     "text": [
      "(1, 2, 3, 4, 5)\n"
     ]
    },
    {
     "data": {
      "text/plain": [
       "tuple"
      ]
     },
     "execution_count": 21,
     "metadata": {},
     "output_type": "execute_result"
    }
   ],
   "source": [
    "Tuple=(1,2,3,4,5)\n",
    "print(Tuple)\n",
    "type(Tuple)"
   ]
  },
  {
   "cell_type": "code",
   "execution_count": 344,
   "id": "6132b074",
   "metadata": {},
   "outputs": [],
   "source": [
    "###2.Access the third element of a tuple"
   ]
  },
  {
   "cell_type": "code",
   "execution_count": 22,
   "id": "f4942c2c",
   "metadata": {},
   "outputs": [
    {
     "name": "stdout",
     "output_type": "stream",
     "text": [
      "3\n"
     ]
    }
   ],
   "source": [
    "Tuple=(1,2,3,4,5)\n",
    "Third_Element=Tuple[2]\n",
    "print(Third_Element)"
   ]
  },
  {
   "cell_type": "code",
   "execution_count": 347,
   "id": "1100b21b",
   "metadata": {},
   "outputs": [],
   "source": [
    "###3.Find the length of a tuple without using the len() function"
   ]
  },
  {
   "cell_type": "code",
   "execution_count": 23,
   "id": "50c15773",
   "metadata": {},
   "outputs": [
    {
     "name": "stdout",
     "output_type": "stream",
     "text": [
      "Length of the String is : 5\n"
     ]
    }
   ],
   "source": [
    "Tuple=(1,2,3,4,5)\n",
    "count=0\n",
    "for i in Tuple:\n",
    "    count=count+1\n",
    "print(\"Length of the String is :\",count)"
   ]
  },
  {
   "cell_type": "code",
   "execution_count": 354,
   "id": "5f103227",
   "metadata": {},
   "outputs": [],
   "source": [
    "###4.Count the occurrences of an element in a tuple"
   ]
  },
  {
   "cell_type": "code",
   "execution_count": 24,
   "id": "6b7158f9",
   "metadata": {},
   "outputs": [
    {
     "name": "stdout",
     "output_type": "stream",
     "text": [
      "Occurence of the element : 2\n"
     ]
    }
   ],
   "source": [
    "Tuple=(1,2,3,4,5,2,4,8,1,9)\n",
    "Number=2\n",
    "count=0\n",
    "for i in Tuple:\n",
    "    if i==Number:\n",
    "        count=count+1\n",
    "print(\"Occurence of the element :\",count)"
   ]
  },
  {
   "cell_type": "code",
   "execution_count": 361,
   "id": "c65e66eb",
   "metadata": {},
   "outputs": [],
   "source": [
    "###5.Find the index of the first occurrence of an element in a tuple"
   ]
  },
  {
   "cell_type": "code",
   "execution_count": 25,
   "id": "97e21d18",
   "metadata": {},
   "outputs": [
    {
     "name": "stdout",
     "output_type": "stream",
     "text": [
      "Index of First Occurence of number is : 2\n"
     ]
    }
   ],
   "source": [
    "Tuple=(1,2,9,4,5,2,4,8,1,9)\n",
    "Number=9\n",
    "Index=Tuple.index(Number)\n",
    "print(\"Index of First Occurence of number is :\",Index)"
   ]
  },
  {
   "cell_type": "code",
   "execution_count": 384,
   "id": "2c897424",
   "metadata": {},
   "outputs": [],
   "source": [
    "###6.Check if an element exists in a tuple"
   ]
  },
  {
   "cell_type": "code",
   "execution_count": 26,
   "id": "80c9176e",
   "metadata": {},
   "outputs": [
    {
     "name": "stdout",
     "output_type": "stream",
     "text": [
      "Number not exist\n"
     ]
    }
   ],
   "source": [
    "Tuple=(1,2,9,4,5,2,4,8,1,9)\n",
    "Number=7\n",
    "if Number in Tuple:\n",
    "        print(\"Number Exists\")\n",
    "else:\n",
    "    print(\"Number not exist\")"
   ]
  },
  {
   "cell_type": "code",
   "execution_count": 392,
   "id": "de72353d",
   "metadata": {},
   "outputs": [],
   "source": [
    "###7.Convert a tuple to a list."
   ]
  },
  {
   "cell_type": "code",
   "execution_count": 27,
   "id": "b9844b8b",
   "metadata": {},
   "outputs": [
    {
     "name": "stdout",
     "output_type": "stream",
     "text": [
      "List is : [1, 2, 9, 4, 5, 2, 4, 8, 1, 9]\n"
     ]
    }
   ],
   "source": [
    "Tuple1=(1,2,9,4,5,2,4,8,1,9)\n",
    "list1=[i for i in Tuple1]\n",
    "print(\"List is :\",list1)"
   ]
  },
  {
   "cell_type": "code",
   "execution_count": 408,
   "id": "232885bd",
   "metadata": {},
   "outputs": [],
   "source": [
    "###8.Convert a list to a tuple"
   ]
  },
  {
   "cell_type": "code",
   "execution_count": 28,
   "id": "1a12b9a4",
   "metadata": {},
   "outputs": [
    {
     "name": "stdout",
     "output_type": "stream",
     "text": [
      "(1, 2, 9, 4, 5, 2, 4, 8, 1, 9)\n"
     ]
    }
   ],
   "source": [
    "List1=[1, 2, 9, 4, 5, 2, 4, 8, 1, 9]\n",
    "Tuple1=tuple(List1)\n",
    "print(Tuple1)"
   ]
  },
  {
   "cell_type": "code",
   "execution_count": 410,
   "id": "23708433",
   "metadata": {},
   "outputs": [],
   "source": [
    "###9.Unpack the elements of a tuple into variables"
   ]
  },
  {
   "cell_type": "code",
   "execution_count": 29,
   "id": "88bffcb8",
   "metadata": {},
   "outputs": [
    {
     "name": "stdout",
     "output_type": "stream",
     "text": [
      "String1\n",
      "String2\n",
      "String3\n"
     ]
    }
   ],
   "source": [
    "Tuple = (\"String1\", \"String2\", \"String3\")\n",
    "\n",
    "(str1, str2, str3) = Tuple\n",
    "\n",
    "print(str1)\n",
    "print(str2)\n",
    "print(str3)"
   ]
  },
  {
   "cell_type": "code",
   "execution_count": 413,
   "id": "9429cce3",
   "metadata": {},
   "outputs": [],
   "source": [
    "###10.Create a tuple of even numbers from 1 to 10"
   ]
  },
  {
   "cell_type": "code",
   "execution_count": 30,
   "id": "07d81bea",
   "metadata": {},
   "outputs": [
    {
     "data": {
      "text/plain": [
       "(2, 4, 6, 8, 10)"
      ]
     },
     "execution_count": 30,
     "metadata": {},
     "output_type": "execute_result"
    }
   ],
   "source": [
    "list1=[i for i in range(2,11,2)]\n",
    "tuple(list1)"
   ]
  },
  {
   "cell_type": "code",
   "execution_count": 427,
   "id": "1c3be104",
   "metadata": {},
   "outputs": [],
   "source": [
    "###11.Create a tuple of odd numbers from 1 to 10"
   ]
  },
  {
   "cell_type": "code",
   "execution_count": 33,
   "id": "1a9f4a0c",
   "metadata": {},
   "outputs": [
    {
     "data": {
      "text/plain": [
       "(1, 3, 5, 7, 9)"
      ]
     },
     "execution_count": 33,
     "metadata": {},
     "output_type": "execute_result"
    }
   ],
   "source": [
    "list1=[i for i in range(1,10,2)]\n",
    "tuple(list1)"
   ]
  },
  {
   "cell_type": "code",
   "execution_count": 431,
   "id": "204a80aa",
   "metadata": {},
   "outputs": [],
   "source": [
    "###12.Concatenate two tuples"
   ]
  },
  {
   "cell_type": "code",
   "execution_count": 34,
   "id": "93fde7d3",
   "metadata": {},
   "outputs": [
    {
     "name": "stdout",
     "output_type": "stream",
     "text": [
      "After concatenation : (1, 2, 9, 4, 5, 2, 4, 8, 1, 9, 1, 2, 9, 5, 3, 4, 8, 1, 9)\n"
     ]
    },
    {
     "data": {
      "text/plain": [
       "tuple"
      ]
     },
     "execution_count": 34,
     "metadata": {},
     "output_type": "execute_result"
    }
   ],
   "source": [
    "Tuple1=(1,2,9,4,5,2,4,8,1,9)\n",
    "Tuple2=(1,2,9,5,3,4,8,1,9)\n",
    "concat=Tuple1+Tuple2\n",
    "print(\"After concatenation :\",concat)\n",
    "type(concat)"
   ]
  },
  {
   "cell_type": "code",
   "execution_count": 441,
   "id": "aead4f47",
   "metadata": {},
   "outputs": [],
   "source": [
    "###13.Repeat a tuple three times"
   ]
  },
  {
   "cell_type": "code",
   "execution_count": 35,
   "id": "52327ae9",
   "metadata": {},
   "outputs": [
    {
     "name": "stdout",
     "output_type": "stream",
     "text": [
      "(1, 2, 9, 4, 5, 2, 4, 8, 1, 9, 1, 2, 9, 4, 5, 2, 4, 8, 1, 9, 1, 2, 9, 4, 5, 2, 4, 8, 1, 9)\n"
     ]
    }
   ],
   "source": [
    "Tuple1=(1,2,9,4,5,2,4,8,1,9)\n",
    "Repeat=3*Tuple1\n",
    "print(Repeat)"
   ]
  },
  {
   "cell_type": "code",
   "execution_count": 443,
   "id": "3920dd3e",
   "metadata": {},
   "outputs": [],
   "source": [
    "###14.Check if a tuple is empty"
   ]
  },
  {
   "cell_type": "code",
   "execution_count": 36,
   "id": "2f62c762",
   "metadata": {},
   "outputs": [
    {
     "name": "stdout",
     "output_type": "stream",
     "text": [
      "List is not Empty\n"
     ]
    }
   ],
   "source": [
    "x=(1,2,9,4,5,2,4,8,1,9)\n",
    "if len(x)==0:\n",
    "    print(\"List is Empty\")\n",
    "else:\n",
    "    print(\"List is not Empty\")"
   ]
  },
  {
   "cell_type": "code",
   "execution_count": 457,
   "id": "f12e9749",
   "metadata": {},
   "outputs": [],
   "source": [
    "###15.Create a nested tuple"
   ]
  },
  {
   "cell_type": "code",
   "execution_count": 37,
   "id": "5a74efbe",
   "metadata": {},
   "outputs": [
    {
     "name": "stdout",
     "output_type": "stream",
     "text": [
      "Nested Tuple is : ((1, 2, 3), (4, 5, 6), (7, 8, 9))\n"
     ]
    }
   ],
   "source": [
    "x=((1,2,3),(4,5,6),(7,8,9))\n",
    "print(\"Nested Tuple is :\",x)"
   ]
  },
  {
   "cell_type": "code",
   "execution_count": 460,
   "id": "be019bc5",
   "metadata": {},
   "outputs": [],
   "source": [
    "###16.Access the first element of a nested tuple"
   ]
  },
  {
   "cell_type": "code",
   "execution_count": 38,
   "id": "01d516b8",
   "metadata": {},
   "outputs": [
    {
     "name": "stdout",
     "output_type": "stream",
     "text": [
      "First Element :  (1, 2, 3)\n"
     ]
    }
   ],
   "source": [
    "x=((1,2,3),(4,5,6),(7,8,9))\n",
    "first_element=x[0]\n",
    "print(\"First Element : \",first_element)"
   ]
  },
  {
   "cell_type": "code",
   "execution_count": 472,
   "id": "aa92a555",
   "metadata": {},
   "outputs": [],
   "source": [
    "###17.Create a tuple with a single element"
   ]
  },
  {
   "cell_type": "code",
   "execution_count": 39,
   "id": "e7d102c4",
   "metadata": {},
   "outputs": [
    {
     "name": "stdout",
     "output_type": "stream",
     "text": [
      "(13,)\n"
     ]
    }
   ],
   "source": [
    "single_tuple=(13,)\n",
    "print(single_tuple)"
   ]
  },
  {
   "cell_type": "code",
   "execution_count": 475,
   "id": "19563c5d",
   "metadata": {},
   "outputs": [],
   "source": [
    "###18.Compare two tuples"
   ]
  },
  {
   "cell_type": "code",
   "execution_count": 40,
   "id": "ab0e589f",
   "metadata": {},
   "outputs": [
    {
     "name": "stdout",
     "output_type": "stream",
     "text": [
      "tuple1 > tuple2 :  False\n",
      "tuple1 < tuple2 :  True\n",
      "tuple1 = tuple2 :  False\n",
      "tuple1 != tuple2 :  True\n",
      "tuple1 >= tuple2 :  False\n",
      "tuple1 <= tuple2 :  False\n"
     ]
    }
   ],
   "source": [
    "tuple1=(1,2,9,4,5,2,4,8,1,9,5,6)\n",
    "tuple2=(1,2,9,5,3,4,8,1,9)\n",
    "print(\"tuple1 > tuple2 : \",tuple1>tuple2)\n",
    "print(\"tuple1 < tuple2 : \",tuple1<tuple2)\n",
    "print(\"tuple1 = tuple2 : \",tuple1==tuple2)\n",
    "print(\"tuple1 != tuple2 : \",tuple1!=tuple2)\n",
    "print(\"tuple1 >= tuple2 : \",tuple1>=tuple2)\n",
    "print(\"tuple1 <= tuple2 : \",tuple1>=tuple2)"
   ]
  },
  {
   "cell_type": "code",
   "execution_count": 489,
   "id": "240e249a",
   "metadata": {},
   "outputs": [],
   "source": [
    "###19.Delete a tuple"
   ]
  },
  {
   "cell_type": "code",
   "execution_count": 41,
   "id": "0be5aaeb",
   "metadata": {},
   "outputs": [
    {
     "ename": "NameError",
     "evalue": "name 'tuple1' is not defined",
     "output_type": "error",
     "traceback": [
      "\u001b[1;31m---------------------------------------------------------------------------\u001b[0m",
      "\u001b[1;31mNameError\u001b[0m                                 Traceback (most recent call last)",
      "Input \u001b[1;32mIn [41]\u001b[0m, in \u001b[0;36m<cell line: 3>\u001b[1;34m()\u001b[0m\n\u001b[0;32m      1\u001b[0m tuple1\u001b[38;5;241m=\u001b[39m(\u001b[38;5;241m1\u001b[39m,\u001b[38;5;241m2\u001b[39m,\u001b[38;5;241m9\u001b[39m,\u001b[38;5;241m5\u001b[39m,\u001b[38;5;241m3\u001b[39m,\u001b[38;5;241m4\u001b[39m,\u001b[38;5;241m8\u001b[39m,\u001b[38;5;241m1\u001b[39m,\u001b[38;5;241m9\u001b[39m)\n\u001b[0;32m      2\u001b[0m \u001b[38;5;28;01mdel\u001b[39;00m tuple1\n\u001b[1;32m----> 3\u001b[0m \u001b[38;5;28mprint\u001b[39m(\u001b[43mtuple1\u001b[49m)\n",
      "\u001b[1;31mNameError\u001b[0m: name 'tuple1' is not defined"
     ]
    }
   ],
   "source": [
    "tuple1=(1,2,9,5,3,4,8,1,9)\n",
    "del tuple1\n",
    "print(tuple1)"
   ]
  },
  {
   "cell_type": "code",
   "execution_count": 494,
   "id": "ea3695ca",
   "metadata": {},
   "outputs": [],
   "source": [
    "###20.Slice a tuple"
   ]
  },
  {
   "cell_type": "code",
   "execution_count": 42,
   "id": "f7e567c1",
   "metadata": {},
   "outputs": [
    {
     "name": "stdout",
     "output_type": "stream",
     "text": [
      "Sliced Tuple : (5, 3)\n"
     ]
    }
   ],
   "source": [
    "tuple1=(1,2,9,5,3,4,8,1,9)\n",
    "Sliced_Tuple=tuple1[3:5]\n",
    "print(\"Sliced Tuple :\",Sliced_Tuple)"
   ]
  },
  {
   "cell_type": "code",
   "execution_count": 497,
   "id": "673dc6c2",
   "metadata": {},
   "outputs": [],
   "source": [
    "###21.Find the maximum value in a tuple"
   ]
  },
  {
   "cell_type": "code",
   "execution_count": 43,
   "id": "8baae32c",
   "metadata": {},
   "outputs": [
    {
     "name": "stdout",
     "output_type": "stream",
     "text": [
      "Max value is :  9\n"
     ]
    }
   ],
   "source": [
    "tuple1=(1,2,9,5,3,4,8,1,9)\n",
    "max=0\n",
    "for i in tuple1:\n",
    "    if i>max:\n",
    "        max=i\n",
    "print(\"Max value is : \",max)"
   ]
  },
  {
   "cell_type": "code",
   "execution_count": 519,
   "id": "2d7400b2",
   "metadata": {},
   "outputs": [],
   "source": [
    "###22.Find the minimum value in a tuple"
   ]
  },
  {
   "cell_type": "code",
   "execution_count": 44,
   "id": "1d3d25ee",
   "metadata": {},
   "outputs": [
    {
     "name": "stdout",
     "output_type": "stream",
     "text": [
      "Minimum Value is :  -9\n"
     ]
    }
   ],
   "source": [
    "tuple1=(1,2,9,5,3,4,8,1,9,11,-9)\n",
    "min=None\n",
    "for i in tuple1:\n",
    "    if min is None or i<min:\n",
    "        min=i\n",
    "print(\"Minimum Value is : \",min)"
   ]
  },
  {
   "cell_type": "code",
   "execution_count": 555,
   "id": "4f1a5375",
   "metadata": {},
   "outputs": [],
   "source": [
    "###23.Convert a string to a tuple of characters"
   ]
  },
  {
   "cell_type": "code",
   "execution_count": 45,
   "id": "f398fa94",
   "metadata": {},
   "outputs": [
    {
     "name": "stdout",
     "output_type": "stream",
     "text": [
      "Tuple :  ('C', 'o', 'n', 'v', 'e', 'r', 't', ' ', 'a', ' ', 's', 't', 'r', 'i', 'n', 'g', ' ', 't', 'o', ' ', 'a', ' ', 't', 'u', 'p', 'l', 'e', ' ', 'o', 'f', ' ', 'c', 'h', 'a', 'r', 'a', 'c', 't', 'e', 'r', 's')\n"
     ]
    }
   ],
   "source": [
    "String=\"Convert a string to a tuple of characters\"\n",
    "TUPLE=tuple(String)\n",
    "print(\"Tuple : \",TUPLE)"
   ]
  },
  {
   "cell_type": "code",
   "execution_count": 558,
   "id": "11cb7939",
   "metadata": {},
   "outputs": [],
   "source": [
    "###24.Convert a tuple of characters to a string"
   ]
  },
  {
   "cell_type": "code",
   "execution_count": 46,
   "id": "24668aff",
   "metadata": {},
   "outputs": [
    {
     "name": "stdout",
     "output_type": "stream",
     "text": [
      "String is :  Convert a string\n"
     ]
    }
   ],
   "source": [
    "Tuple=('C', 'o', 'n', 'v', 'e', 'r', 't', ' ', 'a', ' ', 's', 't', 'r', 'i', 'n', 'g')\n",
    "String=''.join(Tuple)\n",
    "print(\"String is : \",String)"
   ]
  },
  {
   "cell_type": "code",
   "execution_count": 564,
   "id": "646190fd",
   "metadata": {},
   "outputs": [],
   "source": [
    "###25.Create a tuple from multiple data types"
   ]
  },
  {
   "cell_type": "code",
   "execution_count": 47,
   "id": "30d8baf3",
   "metadata": {},
   "outputs": [
    {
     "name": "stdout",
     "output_type": "stream",
     "text": [
      "All Datatype :  (1, 4.5, 'Hello', True)\n"
     ]
    }
   ],
   "source": [
    "Tuple=(1,4.5,\"Hello\",True)\n",
    "print(\"All Datatype : \",Tuple)"
   ]
  },
  {
   "cell_type": "code",
   "execution_count": 566,
   "id": "c3f78dfe",
   "metadata": {},
   "outputs": [],
   "source": [
    "###26.Check if two tuples are identical"
   ]
  },
  {
   "cell_type": "code",
   "execution_count": 48,
   "id": "e7140846",
   "metadata": {},
   "outputs": [
    {
     "name": "stdout",
     "output_type": "stream",
     "text": [
      "Tuples are not identical\n"
     ]
    }
   ],
   "source": [
    "Tuple1=(1,2,9,4,5,2,4,8,1,9)\n",
    "Tuple2=(1,2,9,5,3,4,8,1,9)\n",
    "if Tuple1==Tuple2:\n",
    "    print(\"Tuples are identical\")\n",
    "else:\n",
    "    print(\"Tuples are not identical\")"
   ]
  },
  {
   "cell_type": "code",
   "execution_count": 568,
   "id": "4c66171b",
   "metadata": {},
   "outputs": [],
   "source": [
    "###27.Sort the elements of a tuple"
   ]
  },
  {
   "cell_type": "code",
   "execution_count": 49,
   "id": "f660ddda",
   "metadata": {},
   "outputs": [
    {
     "name": "stdout",
     "output_type": "stream",
     "text": [
      "Sorted Tuple is :  (1, 1, 2, 2, 4, 4, 5, 8, 9, 9)\n"
     ]
    }
   ],
   "source": [
    "Tuple1=(1,2,9,4,5,2,4,8,1,9)\n",
    "Sort=tuple(sorted(Tuple1))\n",
    "print(\"Sorted Tuple is : \",Sort)"
   ]
  },
  {
   "cell_type": "code",
   "execution_count": 580,
   "id": "6ad14935",
   "metadata": {},
   "outputs": [],
   "source": [
    "###28.Convert a tuple of integers to a tuple of strings"
   ]
  },
  {
   "cell_type": "code",
   "execution_count": 50,
   "id": "5a5678ca",
   "metadata": {},
   "outputs": [
    {
     "name": "stdout",
     "output_type": "stream",
     "text": [
      "All String in Tuple is : ('1', '2', '9', '4', '5', '2', '4', '8', '1', '9')\n"
     ]
    }
   ],
   "source": [
    "Tuple1=(1,2,9,4,5,2,4,8,1,9)\n",
    "Strings=tuple(str(item) for item in Tuple1)\n",
    "print(\"All String in Tuple is :\",Strings)"
   ]
  },
  {
   "cell_type": "code",
   "execution_count": 583,
   "id": "bac27ff8",
   "metadata": {},
   "outputs": [],
   "source": [
    "###29.Convert a tuple of strings to a tuple of integers"
   ]
  },
  {
   "cell_type": "code",
   "execution_count": 51,
   "id": "d7b66b3f",
   "metadata": {},
   "outputs": [
    {
     "name": "stdout",
     "output_type": "stream",
     "text": [
      "All Integers in Tuple is : (1, 2, 9, 4, 5, 2, 4, 8, 1, 9)\n"
     ]
    }
   ],
   "source": [
    "Tuple1=('1', '2', '9', '4', '5', '2', '4', '8', '1', '9')\n",
    "Integers=tuple(int(item) for item in Tuple1)\n",
    "print(\"All Integers in Tuple is :\",Integers)"
   ]
  },
  {
   "cell_type": "code",
   "execution_count": 586,
   "id": "a33299ca",
   "metadata": {},
   "outputs": [],
   "source": [
    "###30.Merge two tuples"
   ]
  },
  {
   "cell_type": "code",
   "execution_count": 52,
   "id": "febe4f47",
   "metadata": {},
   "outputs": [
    {
     "name": "stdout",
     "output_type": "stream",
     "text": [
      "Merged Tuple is : (1, 2, 9, 4, 5, 2, 4, 8, 1, 9, 1, 2, 9, 5, 3, 4, 8, 1, 9)\n"
     ]
    }
   ],
   "source": [
    "Tuple1=(1,2,9,4,5,2,4,8,1,9)\n",
    "Tuple2=(1,2,9,5,3,4,8,1,9)\n",
    "Merged_Tuple=Tuple1+Tuple2\n",
    "print(\"Merged Tuple is :\",Merged_Tuple)"
   ]
  },
  {
   "cell_type": "code",
   "execution_count": 588,
   "id": "02014353",
   "metadata": {},
   "outputs": [],
   "source": [
    "###31.Flatten a nested tuple"
   ]
  },
  {
   "cell_type": "code",
   "execution_count": 53,
   "id": "c143244b",
   "metadata": {},
   "outputs": [
    {
     "name": "stdout",
     "output_type": "stream",
     "text": [
      "Flatten Tuple is :  (1, 2, 9, 4, 5, 2, 4, 8, 1, 9)\n"
     ]
    }
   ],
   "source": [
    "Tuple1=((1,2),(9,4),(5,2),(4,8),(1,9))\n",
    "Flatten=[i for subtuple in Tuple1 for i in subtuple]\n",
    "Flatten_Tuple=tuple(Flatten)\n",
    "print(\"Flatten Tuple is : \",Flatten_Tuple)"
   ]
  },
  {
   "cell_type": "code",
   "execution_count": 595,
   "id": "ab6282fb",
   "metadata": {},
   "outputs": [],
   "source": [
    "###32.Create a tuple of the first 5 prime numbers"
   ]
  },
  {
   "cell_type": "code",
   "execution_count": 59,
   "id": "1ae14f9d",
   "metadata": {},
   "outputs": [
    {
     "name": "stdout",
     "output_type": "stream",
     "text": [
      "Tuple first 5 prime numbers: (2, 3, 5, 7, 11)\n"
     ]
    }
   ],
   "source": [
    "def prime(n):\n",
    "    if n <= 1:\n",
    "        return False\n",
    "    for i in range(2, int(n ** 0.5) + 1):\n",
    "        if n % i == 0:\n",
    "            return False\n",
    "    return True\n",
    "prime_list = [n for n in range(2, 100) if prime(n)][:5]\n",
    "prime_tuple = tuple(prime_list)\n",
    "print(\"Tuple first 5 prime numbers:\", prime_tuple)"
   ]
  },
  {
   "cell_type": "code",
   "execution_count": 663,
   "id": "c3cd3b65",
   "metadata": {},
   "outputs": [],
   "source": [
    "###33.Check if a tuple is a palindrome"
   ]
  },
  {
   "cell_type": "code",
   "execution_count": 60,
   "id": "ef9575cd",
   "metadata": {},
   "outputs": [
    {
     "name": "stdout",
     "output_type": "stream",
     "text": [
      "Tuple is not Palindrome\n"
     ]
    }
   ],
   "source": [
    "Tuple1=(1,2,3,4,5,7,3,2,1,9)\n",
    "if Tuple1==Tuple[::-1]:\n",
    "    print(\"Tuplle is Palindrome\")\n",
    "else:\n",
    "    print(\"Tuple is not Palindrome\")"
   ]
  },
  {
   "cell_type": "code",
   "execution_count": 665,
   "id": "abbbfef6",
   "metadata": {},
   "outputs": [],
   "source": [
    "###34.Create a tuple of squares of numbers from 1 to 5"
   ]
  },
  {
   "cell_type": "code",
   "execution_count": 61,
   "id": "1a85412d",
   "metadata": {},
   "outputs": [
    {
     "name": "stdout",
     "output_type": "stream",
     "text": [
      "Tuple of Squares :  (1, 4, 9, 16, 25)\n"
     ]
    }
   ],
   "source": [
    "Squared=[i**2 for i in range(1,6)]\n",
    "Tuple_Squared=tuple(Squared)\n",
    "print(\"Tuple of Squares : \",Tuple_Squared)"
   ]
  },
  {
   "cell_type": "code",
   "execution_count": 674,
   "id": "a8dd5830",
   "metadata": {},
   "outputs": [],
   "source": [
    "####35.Filter out all even numbers from a tuple"
   ]
  },
  {
   "cell_type": "code",
   "execution_count": 62,
   "id": "9fb46c3c",
   "metadata": {},
   "outputs": [
    {
     "name": "stdout",
     "output_type": "stream",
     "text": [
      "Tuple after Filter :  (1, 3, 7, 3, 9)\n"
     ]
    }
   ],
   "source": [
    "Tuple1=(1,2,3,4,6,7,3,2,8,9)\n",
    "Filter=(i for i in Tuple1 if i%2!=0)\n",
    "Filter_Tuple=tuple(Filter)\n",
    "print(\"Tuple after Filter : \",Filter_Tuple)"
   ]
  },
  {
   "cell_type": "code",
   "execution_count": 680,
   "id": "a43347ec",
   "metadata": {},
   "outputs": [],
   "source": [
    "##36.Multiply all elements in a tuple by 2"
   ]
  },
  {
   "cell_type": "code",
   "execution_count": 63,
   "id": "93ec395a",
   "metadata": {},
   "outputs": [
    {
     "name": "stdout",
     "output_type": "stream",
     "text": [
      "Tuple after Multiplication :  (2, 4, 6, 8, 12, 14, 6, 4, 16, 18)\n"
     ]
    }
   ],
   "source": [
    "Tuple1=(1,2,3,4,6,7,3,2,8,9)\n",
    "Multiply=(i*2 for i in Tuple1)\n",
    "Multiply_Tuple=tuple(Multiply)\n",
    "print(\"Tuple after Multiplication : \",Multiply_Tuple)"
   ]
  },
  {
   "cell_type": "code",
   "execution_count": 684,
   "id": "c14f00e8",
   "metadata": {},
   "outputs": [],
   "source": [
    "##37.Create a tuple of random numbers"
   ]
  },
  {
   "cell_type": "code",
   "execution_count": 64,
   "id": "5f553c65",
   "metadata": {},
   "outputs": [
    {
     "name": "stdout",
     "output_type": "stream",
     "text": [
      "Random Tuple :  (40, 4, 28, 44, 26, 59, 1, 41, 6, 42)\n"
     ]
    }
   ],
   "source": [
    "import random\n",
    "List1=(random.randint(1,100) for i in range(10))\n",
    "Tuple1=tuple(List1)\n",
    "print(\"Random Tuple : \",Tuple1)"
   ]
  },
  {
   "cell_type": "code",
   "execution_count": 691,
   "id": "d419a371",
   "metadata": {},
   "outputs": [],
   "source": [
    "###38.Check if a tuple is sorted"
   ]
  },
  {
   "cell_type": "code",
   "execution_count": 79,
   "id": "78e75880",
   "metadata": {},
   "outputs": [
    {
     "name": "stdout",
     "output_type": "stream",
     "text": [
      "True\n",
      "False\n"
     ]
    }
   ],
   "source": [
    "def sort(Tuple1):\n",
    "    for i in range(len(Tuple1)-1):\n",
    "        if Tuple1[i]>Tuple1[i+1]:\n",
    "            return False\n",
    "    return True\n",
    "Tuple1=(1, 2, 3, 4,5, 6, 7, 8)\n",
    "Tuple2=(9,5,3,5,6,1,9)\n",
    "print(sort(Tuple1))\n",
    "print(sort(Tuple2))"
   ]
  },
  {
   "cell_type": "code",
   "execution_count": 700,
   "id": "ea0e3c30",
   "metadata": {},
   "outputs": [],
   "source": [
    "###39.Rotate a tuple to the left by n positions"
   ]
  },
  {
   "cell_type": "code",
   "execution_count": 80,
   "id": "f24415b9",
   "metadata": {},
   "outputs": [
    {
     "name": "stdout",
     "output_type": "stream",
     "text": [
      "Enter the number to rotate left : 4\n",
      "(5, 6, 7, 8, 9, 2, 5, 6, 2, 9, 13, 65, 32, 19, 32, 1, 2, 3, 4)\n"
     ]
    },
    {
     "data": {
      "text/plain": [
       "tuple"
      ]
     },
     "execution_count": 80,
     "metadata": {},
     "output_type": "execute_result"
    }
   ],
   "source": [
    "Tuple1=(1, 2, 3, 4, 5, 6, 7, 8, 9, 2, 5, 6, 2, 9, 13, 65, 32, 19, 32)\n",
    "n=int(input(\"Enter the number to rotate left : \"))\n",
    "Rotated_Tuple=Tuple1[n:]+Tuple1[:n]\n",
    "print(Rotated_Tuple)\n",
    "type(Rotated_Tuple)"
   ]
  },
  {
   "cell_type": "code",
   "execution_count": 705,
   "id": "39139ba2",
   "metadata": {},
   "outputs": [],
   "source": [
    "###40.Rotate a tuple to the right by n positions"
   ]
  },
  {
   "cell_type": "code",
   "execution_count": 81,
   "id": "f524ac0b",
   "metadata": {},
   "outputs": [
    {
     "name": "stdout",
     "output_type": "stream",
     "text": [
      "Enter the number to rotate right : 5\n",
      "(13, 65, 32, 19, 32, 1, 2, 3, 4, 5, 6, 7, 8, 9, 2, 5, 6, 2, 9)\n"
     ]
    },
    {
     "data": {
      "text/plain": [
       "tuple"
      ]
     },
     "execution_count": 81,
     "metadata": {},
     "output_type": "execute_result"
    }
   ],
   "source": [
    "Tuple1=(1, 2, 3, 4, 5, 6, 7, 8, 9, 2, 5, 6, 2, 9, 13, 65, 32, 19, 32)\n",
    "n=int(input(\"Enter the number to rotate right : \"))\n",
    "Rotated_Tuple=Tuple1[-n:]+Tuple1[:-n]\n",
    "print(Rotated_Tuple)\n",
    "type(Rotated_Tuple)"
   ]
  },
  {
   "cell_type": "code",
   "execution_count": 706,
   "id": "48544a7d",
   "metadata": {},
   "outputs": [],
   "source": [
    "##41.Create a tuple of the first 5 Fibonacci numbers"
   ]
  },
  {
   "cell_type": "code",
   "execution_count": 33,
   "id": "efc10960",
   "metadata": {},
   "outputs": [
    {
     "name": "stdout",
     "output_type": "stream",
     "text": [
      "Enter the Number : 5\n",
      "Tuple of Fibonacci Number :  [0, 1, 1, 2, 3]\n"
     ]
    }
   ],
   "source": [
    "n=int(input(\"Enter the Number : \"))\n",
    "fibonacci=[0,1]\n",
    "while len(fibonacci)<n:\n",
    "    next_number=fibonacci[-1]+fibonacci[-2]\n",
    "    fibonacci.append(next_number)\n",
    "print(\"Tuple of Fibonacci Number : \",fibonacci)"
   ]
  },
  {
   "cell_type": "code",
   "execution_count": 713,
   "id": "a538b324",
   "metadata": {},
   "outputs": [],
   "source": [
    "##42.Create a tuple from user input"
   ]
  },
  {
   "cell_type": "code",
   "execution_count": 89,
   "id": "2f3fab2d",
   "metadata": {},
   "outputs": [
    {
     "name": "stdout",
     "output_type": "stream",
     "text": [
      "Enter the String : python is a language\n",
      "User Entered Tuple :  ('python', 'is', 'a', 'language')\n"
     ]
    }
   ],
   "source": [
    "String=input(\"Enter the String : \")\n",
    "List=String.split(\" \")\n",
    "Tuple1=tuple(List)\n",
    "print(\"User Entered Tuple : \",Tuple1)"
   ]
  },
  {
   "cell_type": "code",
   "execution_count": 2,
   "id": "723b0d41",
   "metadata": {},
   "outputs": [],
   "source": [
    "##43.Swap two elements in a tuple"
   ]
  },
  {
   "cell_type": "code",
   "execution_count": 105,
   "id": "c2637a2a",
   "metadata": {},
   "outputs": [
    {
     "name": "stdout",
     "output_type": "stream",
     "text": [
      "Swapped tuple: (1, 2, 3, 4, 5, 6, 8, 7, 9, 13, 65, 32, 19, 32)\n"
     ]
    }
   ],
   "source": [
    "Tuple1=(1, 2, 3, 4, 5, 6, 7, 8, 9, 13, 65, 32, 19, 32)\n",
    "index1 = 7\n",
    "index2 = 6\n",
    "tuple2 = tuple(Tuple1[i]\n",
    "    if i not in (index1, index2) \n",
    "    else Tuple1[index2] \n",
    "    if i == index1\n",
    "    else Tuple1[index1]\n",
    "    for i in range(len(Tuple1)))\n",
    "print(\"Swapped tuple:\", tuple2)"
   ]
  },
  {
   "cell_type": "code",
   "execution_count": 4,
   "id": "c0355328",
   "metadata": {},
   "outputs": [],
   "source": [
    "##44.Reverse the elements of a tuple"
   ]
  },
  {
   "cell_type": "code",
   "execution_count": 106,
   "id": "11ded3c2",
   "metadata": {},
   "outputs": [
    {
     "name": "stdout",
     "output_type": "stream",
     "text": [
      "Reversed Tuple is :  (32, 19, 32, 65, 13, 9, 2, 6, 5, 2, 9, 8, 7, 6, 5, 4, 3, 2, 1)\n"
     ]
    }
   ],
   "source": [
    "Tuple1=(1, 2, 3, 4, 5, 6, 7, 8, 9, 2, 5, 6, 2, 9, 13, 65, 32, 19, 32)\n",
    "Reversed_Tuple=Tuple1[::-1]\n",
    "print(\"Reversed Tuple is : \",Reversed_Tuple)"
   ]
  },
  {
   "cell_type": "code",
   "execution_count": 7,
   "id": "aa68d374",
   "metadata": {},
   "outputs": [],
   "source": [
    "##45.Create a tuple of the first n powers of 2"
   ]
  },
  {
   "cell_type": "code",
   "execution_count": 107,
   "id": "d85c1eec",
   "metadata": {},
   "outputs": [
    {
     "name": "stdout",
     "output_type": "stream",
     "text": [
      "Tuple of the powers of 2 :  (1, 2, 4)\n"
     ]
    }
   ],
   "source": [
    "n=3\n",
    "power =(2 ** i for i in range(n))\n",
    "Tuple_power=tuple(power)\n",
    "print(\"Tuple of the powers of 2 : \",Tuple_power)"
   ]
  },
  {
   "cell_type": "code",
   "execution_count": 19,
   "id": "0fe89790",
   "metadata": {},
   "outputs": [],
   "source": [
    "##46.Find the longest string in a tuple of strings"
   ]
  },
  {
   "cell_type": "code",
   "execution_count": 108,
   "id": "b73b96fd",
   "metadata": {},
   "outputs": [
    {
     "name": "stdout",
     "output_type": "stream",
     "text": [
      "Longest String is :  programming\n"
     ]
    },
    {
     "data": {
      "text/plain": [
       "tuple"
      ]
     },
     "execution_count": 108,
     "metadata": {},
     "output_type": "execute_result"
    }
   ],
   "source": [
    "Tuple1=('Python', 'is', 'a', 'programming', 'language')\n",
    "Long=''\n",
    "for i in Tuple1:\n",
    "    if len(i)>len(Long):\n",
    "        Long=i\n",
    "print(\"Longest String is : \",Long)   \n",
    "type(Tuple1)"
   ]
  },
  {
   "cell_type": "code",
   "execution_count": 29,
   "id": "44ef7d60",
   "metadata": {},
   "outputs": [],
   "source": [
    "##47.Find the shortest string in a tuple of strings"
   ]
  },
  {
   "cell_type": "code",
   "execution_count": 109,
   "id": "4dd1df1c",
   "metadata": {},
   "outputs": [
    {
     "name": "stdout",
     "output_type": "stream",
     "text": [
      "Shortest String is :  a\n"
     ]
    },
    {
     "data": {
      "text/plain": [
       "tuple"
      ]
     },
     "execution_count": 109,
     "metadata": {},
     "output_type": "execute_result"
    }
   ],
   "source": [
    "Tuple1=('Python', 'is', 'a', 'programming', 'language')\n",
    "Short=Tuple1[0]\n",
    "for i in Tuple1:\n",
    "    if len(i)<len(Short):\n",
    "        Short=i\n",
    "print(\"Shortest String is : \",Short)   \n",
    "type(Tuple1)"
   ]
  },
  {
   "cell_type": "code",
   "execution_count": 30,
   "id": "f7bbff65",
   "metadata": {},
   "outputs": [],
   "source": [
    "##48.Create a tuple of the first n triangular numbers"
   ]
  },
  {
   "cell_type": "code",
   "execution_count": 110,
   "id": "d56c4783",
   "metadata": {},
   "outputs": [
    {
     "name": "stdout",
     "output_type": "stream",
     "text": [
      "Enter the Number : 6\n",
      "List of the  6 triangular numbers: (1, 3, 6, 10, 15, 21)\n"
     ]
    }
   ],
   "source": [
    "def triangular(n):\n",
    "    return [i * (i + 1) // 2 for i in range(1, n + 1)]\n",
    "n = int(input(\"Enter the Number : \"))\n",
    "triangular_list = triangular(n)\n",
    "triangular_tuple=tuple(triangular_list)\n",
    "print(\"List of the \", n, \"triangular numbers:\", triangular_tuple)"
   ]
  },
  {
   "cell_type": "code",
   "execution_count": 53,
   "id": "c1bdf10a",
   "metadata": {},
   "outputs": [],
   "source": [
    "###49.Check if a tuple contains another tuple as a subsequence"
   ]
  },
  {
   "cell_type": "code",
   "execution_count": 118,
   "id": "31707013",
   "metadata": {},
   "outputs": [
    {
     "name": "stdout",
     "output_type": "stream",
     "text": [
      "True\n"
     ]
    }
   ],
   "source": [
    "tuple1 = (1, 2, 3, 4, 5, 6, 7, 8, 9)\n",
    "tuple2 = (3, 4, 5)\n",
    "def subsequence(tuple1,tuple2):\n",
    "    length = len(tuple2)\n",
    "    for i in range(len(tuple1) - length + 1):\n",
    "        if tuple1[i:i+length] == tuple2:\n",
    "            return True\n",
    "    return False\n",
    "print(subsequence(tuple1,tuple2))"
   ]
  },
  {
   "cell_type": "code",
   "execution_count": 45,
   "id": "e0c39d8f",
   "metadata": {},
   "outputs": [],
   "source": [
    "###50.Create a tuple of alternating 1s and 0s of length n"
   ]
  },
  {
   "cell_type": "code",
   "execution_count": 119,
   "id": "a8a304c2",
   "metadata": {},
   "outputs": [
    {
     "name": "stdout",
     "output_type": "stream",
     "text": [
      "Tuple of alternating 1s and 0s :  (0, 1, 0, 1, 0, 1, 0, 1, 0, 1)\n"
     ]
    }
   ],
   "source": [
    "n=10\n",
    "list1=[i%2 for i in range(n)]\n",
    "Tuple1=tuple(list1)\n",
    "print(\"Tuple of alternating 1s and 0s : \",Tuple1)"
   ]
  },
  {
   "cell_type": "markdown",
   "id": "8af3366b",
   "metadata": {},
   "source": [
    "# Set based assignment problems"
   ]
  },
  {
   "cell_type": "code",
   "execution_count": 55,
   "id": "340b294c",
   "metadata": {},
   "outputs": [],
   "source": [
    "##1.Create a set with integers from 1 to 5"
   ]
  },
  {
   "cell_type": "code",
   "execution_count": 120,
   "id": "5744d2bb",
   "metadata": {},
   "outputs": [
    {
     "name": "stdout",
     "output_type": "stream",
     "text": [
      "Set :  {1, 2, 3, 4, 5}\n"
     ]
    }
   ],
   "source": [
    "Set1={i for i in range(1,6)}\n",
    "print(\"Set : \", Set1)"
   ]
  },
  {
   "cell_type": "code",
   "execution_count": 58,
   "id": "eb8e658f",
   "metadata": {},
   "outputs": [],
   "source": [
    "##2.Add an element to a set"
   ]
  },
  {
   "cell_type": "code",
   "execution_count": 121,
   "id": "42f3993a",
   "metadata": {},
   "outputs": [
    {
     "name": "stdout",
     "output_type": "stream",
     "text": [
      "Set after adding element: {1, 2, 3, 4, 5, 6}\n"
     ]
    }
   ],
   "source": [
    "set1 = {1, 2, 3, 4, 5}\n",
    "Add_Element = 6\n",
    "set1.add(Add_Element)\n",
    "print(\"Set after adding element:\", set1)"
   ]
  },
  {
   "cell_type": "code",
   "execution_count": 75,
   "id": "bb1a8ae7",
   "metadata": {},
   "outputs": [],
   "source": [
    "##3.Remove an element from a set"
   ]
  },
  {
   "cell_type": "code",
   "execution_count": 122,
   "id": "63e51a5c",
   "metadata": {},
   "outputs": [
    {
     "name": "stdout",
     "output_type": "stream",
     "text": [
      "Set after removing element: {1, 2, 3, 4, 6}\n"
     ]
    }
   ],
   "source": [
    "set2={1, 2, 3, 4, 5, 6}\n",
    "remove_element=5\n",
    "set2.remove(remove_element)\n",
    "print(\"Set after removing element:\", set2)"
   ]
  },
  {
   "cell_type": "code",
   "execution_count": 77,
   "id": "2292037e",
   "metadata": {},
   "outputs": [],
   "source": [
    "##4.Check if an element exists in a set"
   ]
  },
  {
   "cell_type": "code",
   "execution_count": 123,
   "id": "03cd3450",
   "metadata": {},
   "outputs": [
    {
     "name": "stdout",
     "output_type": "stream",
     "text": [
      "Enter the element : 4\n",
      "Element Exists\n"
     ]
    }
   ],
   "source": [
    "set2={1, 2, 3, 4, 5, 6}\n",
    "element=int(input(\"Enter the element : \"))\n",
    "if element in set2:\n",
    "    print(\"Element Exists\")\n",
    "else:\n",
    "    print(\"Element doesn't Exist\")"
   ]
  },
  {
   "cell_type": "code",
   "execution_count": 124,
   "id": "e6980b42",
   "metadata": {},
   "outputs": [],
   "source": [
    "###5.Find the length of a set without using the len() function"
   ]
  },
  {
   "cell_type": "code",
   "execution_count": 125,
   "id": "f1ab83ef",
   "metadata": {},
   "outputs": [
    {
     "name": "stdout",
     "output_type": "stream",
     "text": [
      "Length of a set :  6\n"
     ]
    }
   ],
   "source": [
    "set2={1, 2, 3, 4, 5, 6}\n",
    "len=0\n",
    "for i in set2:\n",
    "    len=len+1\n",
    "print(\"Length of a set : \",len)"
   ]
  },
  {
   "cell_type": "code",
   "execution_count": 90,
   "id": "a839a385",
   "metadata": {},
   "outputs": [],
   "source": [
    "##6.Clear all elements from a set"
   ]
  },
  {
   "cell_type": "code",
   "execution_count": 126,
   "id": "743c53d1",
   "metadata": {},
   "outputs": [
    {
     "name": "stdout",
     "output_type": "stream",
     "text": [
      "set()\n"
     ]
    }
   ],
   "source": [
    "set2={1, 2, 3, 4, 5, 6}\n",
    "set2.clear()\n",
    "print(set2)"
   ]
  },
  {
   "cell_type": "code",
   "execution_count": 93,
   "id": "8591c338",
   "metadata": {},
   "outputs": [],
   "source": [
    "##7.Create a set of even numbers from 1 to 10"
   ]
  },
  {
   "cell_type": "code",
   "execution_count": 127,
   "id": "69982277",
   "metadata": {},
   "outputs": [
    {
     "name": "stdout",
     "output_type": "stream",
     "text": [
      "Set of even numbers from 1 to 10 :  {2, 4, 6, 8, 10}\n"
     ]
    }
   ],
   "source": [
    "set1={i for i in range(1,11) if i%2==0}\n",
    "print(\"Set of even numbers from 1 to 10 : \",set1)"
   ]
  },
  {
   "cell_type": "code",
   "execution_count": 102,
   "id": "afc647aa",
   "metadata": {},
   "outputs": [],
   "source": [
    "##8.Create a set of odd numbers from 1 to 10"
   ]
  },
  {
   "cell_type": "code",
   "execution_count": 128,
   "id": "e43f958c",
   "metadata": {},
   "outputs": [
    {
     "name": "stdout",
     "output_type": "stream",
     "text": [
      "Set of even numbers from 1 to 10 :  {1, 3, 5, 7, 9}\n"
     ]
    }
   ],
   "source": [
    "set1={i for i in range(1,10) if i%2!=0}\n",
    "print(\"Set of even numbers from 1 to 10 : \",set1)"
   ]
  },
  {
   "cell_type": "code",
   "execution_count": 104,
   "id": "89bdfeb8",
   "metadata": {},
   "outputs": [],
   "source": [
    "##9.Find the union of two sets"
   ]
  },
  {
   "cell_type": "code",
   "execution_count": 129,
   "id": "853bf47c",
   "metadata": {},
   "outputs": [
    {
     "name": "stdout",
     "output_type": "stream",
     "text": [
      "Union of two sets : {1, 2, 3, 4, 5, 6, 7, 8}\n"
     ]
    }
   ],
   "source": [
    "set1={1,2,3,4,5,6,7}\n",
    "set2={3,4,5,6,7,8}\n",
    "union=set1.union(set2)\n",
    "print(\"Union of two sets :\", union)"
   ]
  },
  {
   "cell_type": "code",
   "execution_count": 108,
   "id": "962eb195",
   "metadata": {},
   "outputs": [],
   "source": [
    "###10.Find the intersection of two sets"
   ]
  },
  {
   "cell_type": "code",
   "execution_count": 130,
   "id": "7f6b114c",
   "metadata": {},
   "outputs": [
    {
     "name": "stdout",
     "output_type": "stream",
     "text": [
      "Intersection of two sets : {3, 4, 5, 6, 7}\n"
     ]
    }
   ],
   "source": [
    "set1={1,2,3,4,5,6,7}\n",
    "set2={3,4,5,6,7,8}\n",
    "intersection=set1.intersection(set2)\n",
    "print(\"Intersection of two sets :\", intersection)"
   ]
  },
  {
   "cell_type": "code",
   "execution_count": 110,
   "id": "b39293d1",
   "metadata": {},
   "outputs": [],
   "source": [
    "###11.Find the difference between two sets"
   ]
  },
  {
   "cell_type": "code",
   "execution_count": 131,
   "id": "50a8961f",
   "metadata": {},
   "outputs": [
    {
     "name": "stdout",
     "output_type": "stream",
     "text": [
      "Difference of two sets : {1, 2}\n"
     ]
    }
   ],
   "source": [
    "set1={1,2,3,4,5,6,7}\n",
    "set2={3,4,5,6,7,8}\n",
    "difference=set1.difference(set2)\n",
    "print(\"Difference of two sets :\", difference)"
   ]
  },
  {
   "cell_type": "code",
   "execution_count": 113,
   "id": "20b583b6",
   "metadata": {},
   "outputs": [],
   "source": [
    "###12.Check if a set is a subset of another set"
   ]
  },
  {
   "cell_type": "code",
   "execution_count": 132,
   "id": "377b220b",
   "metadata": {},
   "outputs": [
    {
     "name": "stdout",
     "output_type": "stream",
     "text": [
      "Set 1 is subset of Set2\n"
     ]
    }
   ],
   "source": [
    "set1={1,2,3,4}\n",
    "set2={1,2,3,4,5,6,7,8}\n",
    "subset=set1.issubset(set2)\n",
    "if subset==True:\n",
    "    print(\"Set 1 is subset of Set2\")\n",
    "else:\n",
    "    print(\"Set 1 is not subset of Set2\")"
   ]
  },
  {
   "cell_type": "code",
   "execution_count": 119,
   "id": "ab859e12",
   "metadata": {},
   "outputs": [],
   "source": [
    "###13.Check if a set is a superset of another set"
   ]
  },
  {
   "cell_type": "code",
   "execution_count": 133,
   "id": "4fe952d6",
   "metadata": {},
   "outputs": [
    {
     "name": "stdout",
     "output_type": "stream",
     "text": [
      "Set 2 is superset of Set1\n"
     ]
    }
   ],
   "source": [
    "set1={1,2,3,4}\n",
    "set2={1,2,3,4,5,6,7,8}\n",
    "superset=set2.issuperset(set1)\n",
    "if superset==True:\n",
    "    print(\"Set 2 is superset of Set1\")\n",
    "else:\n",
    "    print(\"Set 2 is not superset of Set1\")"
   ]
  },
  {
   "cell_type": "code",
   "execution_count": 122,
   "id": "c66291f1",
   "metadata": {},
   "outputs": [],
   "source": [
    "##14.Create a set from a list"
   ]
  },
  {
   "cell_type": "code",
   "execution_count": 134,
   "id": "302dc9c5",
   "metadata": {},
   "outputs": [
    {
     "name": "stdout",
     "output_type": "stream",
     "text": [
      "Set :  {1, 2, 3, 4, 5, 6}\n"
     ]
    }
   ],
   "source": [
    "list1=[1,2,3,4,5,6]\n",
    "Set1=set(list1)\n",
    "print(\"Set : \",Set1)"
   ]
  },
  {
   "cell_type": "code",
   "execution_count": 124,
   "id": "75db8df0",
   "metadata": {},
   "outputs": [],
   "source": [
    "##15.Convert a set to a list"
   ]
  },
  {
   "cell_type": "code",
   "execution_count": 1,
   "id": "b2543f85",
   "metadata": {},
   "outputs": [
    {
     "name": "stdout",
     "output_type": "stream",
     "text": [
      "List :  [1, 2, 3, 4, 5, 6]\n"
     ]
    }
   ],
   "source": [
    "Set1={1,2,3,4,5,6}\n",
    "list1=list(Set1)\n",
    "print(\"List : \",list1)"
   ]
  },
  {
   "cell_type": "code",
   "execution_count": 126,
   "id": "ea032ba5",
   "metadata": {},
   "outputs": [],
   "source": [
    "##16.Remove a random element from a set"
   ]
  },
  {
   "cell_type": "code",
   "execution_count": 2,
   "id": "43d4f719",
   "metadata": {},
   "outputs": [
    {
     "name": "stdout",
     "output_type": "stream",
     "text": [
      "Set after removal :  {1, 2, 3, 4, 5}\n"
     ]
    }
   ],
   "source": [
    "import random\n",
    "Set1={1,2,3,4,5,6}\n",
    "delete=random.choice(list(Set1))\n",
    "Set1.remove(delete)\n",
    "print(\"Set after removal : \",Set1)"
   ]
  },
  {
   "cell_type": "code",
   "execution_count": 137,
   "id": "22f87708",
   "metadata": {},
   "outputs": [],
   "source": [
    "##17.Pop an element from a set"
   ]
  },
  {
   "cell_type": "code",
   "execution_count": 3,
   "id": "2d48d840",
   "metadata": {},
   "outputs": [
    {
     "name": "stdout",
     "output_type": "stream",
     "text": [
      "Set after Pop :  {2, 3, 4, 5, 6}\n"
     ]
    }
   ],
   "source": [
    "Set1={1,2,3,4,5,6}\n",
    "pop1=Set1.pop()\n",
    "print(\"Set after Pop : \",Set1)"
   ]
  },
  {
   "cell_type": "code",
   "execution_count": 140,
   "id": "b25737d1",
   "metadata": {},
   "outputs": [],
   "source": [
    "##18.Check if two sets have no elements in common"
   ]
  },
  {
   "cell_type": "code",
   "execution_count": 141,
   "id": "6984cd7d",
   "metadata": {},
   "outputs": [],
   "source": [
    "##19.Find the symmetric difference between two sets"
   ]
  },
  {
   "cell_type": "code",
   "execution_count": 142,
   "id": "aae687f0",
   "metadata": {},
   "outputs": [
    {
     "name": "stdout",
     "output_type": "stream",
     "text": [
      "Symmetric Difference :  {5, 6, 7, 8}\n"
     ]
    }
   ],
   "source": [
    "set1={1,2,3,4}\n",
    "set2={1,2,3,4,5,6,7,8}\n",
    "Symmetric=set1^set2\n",
    "print(\"Symmetric Difference : \",Symmetric)"
   ]
  },
  {
   "cell_type": "code",
   "execution_count": 143,
   "id": "fb8fdd90",
   "metadata": {},
   "outputs": [],
   "source": [
    "##20.Update a set with elements from another set"
   ]
  },
  {
   "cell_type": "code",
   "execution_count": 145,
   "id": "179d7ad9",
   "metadata": {},
   "outputs": [
    {
     "name": "stdout",
     "output_type": "stream",
     "text": [
      "{1, 2, 3, 4, 5, 6, 7, 8}\n"
     ]
    }
   ],
   "source": [
    "set1={1,2,3,4}\n",
    "set2={1,2,3,4,5,6,7,8}\n",
    "set1.update(set2)\n",
    "print(set1)"
   ]
  },
  {
   "cell_type": "code",
   "execution_count": 81,
   "id": "302792d6",
   "metadata": {},
   "outputs": [],
   "source": [
    "###21.Create a set of the first 5 prime numbers"
   ]
  },
  {
   "cell_type": "code",
   "execution_count": 5,
   "id": "9e7dccf1",
   "metadata": {},
   "outputs": [
    {
     "name": "stdout",
     "output_type": "stream",
     "text": [
      "Tuple first 5 prime numbers: {2, 3, 5, 7, 11}\n"
     ]
    }
   ],
   "source": [
    "def prime(n):\n",
    "    if n <= 1:\n",
    "        return False\n",
    "    for i in range(2, int(n ** 0.5) + 1):\n",
    "        if n % i == 0:\n",
    "            return False\n",
    "    return True\n",
    "prime_list = [n for n in range(2, 100) if prime(n)][:5]\n",
    "prime_set = set(prime_list)\n",
    "print(\"Tuple first 5 prime numbers:\", prime_set)"
   ]
  },
  {
   "cell_type": "code",
   "execution_count": 147,
   "id": "f7c9e263",
   "metadata": {},
   "outputs": [],
   "source": [
    "###22.Check if two sets are identical"
   ]
  },
  {
   "cell_type": "code",
   "execution_count": 6,
   "id": "46262f2b",
   "metadata": {},
   "outputs": [
    {
     "name": "stdout",
     "output_type": "stream",
     "text": [
      "Sets are not identical\n"
     ]
    }
   ],
   "source": [
    "set1={1,2,3,4}\n",
    "set2={1,2,3,4,5,6,7,8}\n",
    "if set1==set2:\n",
    "    print(\"Sets are identical\")\n",
    "else:\n",
    "    print(\"Sets are not identical\")"
   ]
  },
  {
   "cell_type": "code",
   "execution_count": 149,
   "id": "c6000d94",
   "metadata": {},
   "outputs": [],
   "source": [
    "###23.Create a frozen set"
   ]
  },
  {
   "cell_type": "code",
   "execution_count": 7,
   "id": "085851e5",
   "metadata": {},
   "outputs": [
    {
     "name": "stdout",
     "output_type": "stream",
     "text": [
      "Frozen set :  frozenset({1, 2, 3, 4})\n"
     ]
    }
   ],
   "source": [
    "set1={1,2,3,4}\n",
    "frozen=frozenset(set1)\n",
    "print(\"Frozen set : \",frozen)"
   ]
  },
  {
   "cell_type": "code",
   "execution_count": 151,
   "id": "34cd310f",
   "metadata": {},
   "outputs": [],
   "source": [
    "###24.Check if a set is disjoint with another set"
   ]
  },
  {
   "cell_type": "code",
   "execution_count": 8,
   "id": "d1c4029f",
   "metadata": {},
   "outputs": [
    {
     "name": "stdout",
     "output_type": "stream",
     "text": [
      "Are Sets disjont :  False\n"
     ]
    }
   ],
   "source": [
    "set1={1,2,3,4}\n",
    "set2={1,2,3,4,5,6,7,8}\n",
    "disjoint=set1.isdisjoint(set2)\n",
    "print(\"Are Sets disjont : \",disjoint)"
   ]
  },
  {
   "cell_type": "code",
   "execution_count": 153,
   "id": "ac138fd2",
   "metadata": {},
   "outputs": [],
   "source": [
    "###25.Create a set of squares of numbers from 1 to 5"
   ]
  },
  {
   "cell_type": "code",
   "execution_count": 9,
   "id": "238bd7a2",
   "metadata": {},
   "outputs": [
    {
     "name": "stdout",
     "output_type": "stream",
     "text": [
      "Squares of Numbers :  {1, 4, 9, 16, 25}\n"
     ]
    }
   ],
   "source": [
    "set1={i**2 for i in range(1,6)}\n",
    "print(\"Squares of Numbers : \",set1)"
   ]
  },
  {
   "cell_type": "code",
   "execution_count": 158,
   "id": "e3214d93",
   "metadata": {},
   "outputs": [],
   "source": [
    "###26.Filter out all even numbers from a set"
   ]
  },
  {
   "cell_type": "code",
   "execution_count": 10,
   "id": "435ab1b7",
   "metadata": {},
   "outputs": [
    {
     "name": "stdout",
     "output_type": "stream",
     "text": [
      "Odd Numbers :  {1, 3, 9, 11, 17, 23}\n"
     ]
    }
   ],
   "source": [
    "set1={1,2,3,4,6,8,9,11,14,17,23}\n",
    "odd=set(i for i in set1 if i%2!=0 )\n",
    "print(\"Odd Numbers : \",odd)"
   ]
  },
  {
   "cell_type": "code",
   "execution_count": 164,
   "id": "1e15af6c",
   "metadata": {},
   "outputs": [],
   "source": [
    "##27.Multiply all elements in a set by 2"
   ]
  },
  {
   "cell_type": "code",
   "execution_count": 11,
   "id": "7dd434ba",
   "metadata": {},
   "outputs": [
    {
     "data": {
      "text/plain": [
       "{2, 4, 6, 8, 12, 16, 18, 22, 28, 34, 46}"
      ]
     },
     "execution_count": 11,
     "metadata": {},
     "output_type": "execute_result"
    }
   ],
   "source": [
    "set1={1,2,3,4,6,8,9,11,14,17,23}\n",
    "multiply={2*i for i in set1}\n",
    "set(sorted(multiply))"
   ]
  },
  {
   "cell_type": "code",
   "execution_count": 191,
   "id": "2380b4c9",
   "metadata": {},
   "outputs": [],
   "source": [
    "##28.Create a set of random numbers"
   ]
  },
  {
   "cell_type": "code",
   "execution_count": 12,
   "id": "77786ddc",
   "metadata": {},
   "outputs": [
    {
     "name": "stdout",
     "output_type": "stream",
     "text": [
      "Random Numbers :  {32, 99, 68, 73, 48, 17, 20, 58, 60, 30}\n"
     ]
    }
   ],
   "source": [
    "import random\n",
    "random=set(random.randint(1,100) for i in range(10))\n",
    "print(\"Random Numbers : \",random)"
   ]
  },
  {
   "cell_type": "code",
   "execution_count": 194,
   "id": "b5a12358",
   "metadata": {},
   "outputs": [],
   "source": [
    "###29.Check if a set is empty"
   ]
  },
  {
   "cell_type": "code",
   "execution_count": 13,
   "id": "6049b667",
   "metadata": {},
   "outputs": [
    {
     "name": "stdout",
     "output_type": "stream",
     "text": [
      "Set is not Empty\n"
     ]
    }
   ],
   "source": [
    "set1={1,2,3,4,5}\n",
    "if not set1:\n",
    "    print(\"Set is Empty\")\n",
    "else:\n",
    "    print(\"Set is not Empty\")"
   ]
  },
  {
   "cell_type": "code",
   "execution_count": 196,
   "id": "55c8c66e",
   "metadata": {},
   "outputs": [],
   "source": [
    "###30.Create a nested set (hint: use frozenset)"
   ]
  },
  {
   "cell_type": "code",
   "execution_count": 14,
   "id": "78e3fc61",
   "metadata": {},
   "outputs": [
    {
     "name": "stdout",
     "output_type": "stream",
     "text": [
      "Combine set :  {frozenset({1, 2, 3, 4}), frozenset({1, 2, 3, 4, 5, 6, 7, 8})}\n"
     ]
    }
   ],
   "source": [
    "set1={1,2,3,4}\n",
    "set2={1,2,3,4,5,6,7,8}\n",
    "frozenset1=frozenset(set1)\n",
    "frozenset2=frozenset(set2)\n",
    "Combine_set={frozenset1,frozenset2}\n",
    "print(\"Combine set : \",Combine_set)"
   ]
  },
  {
   "cell_type": "code",
   "execution_count": 199,
   "id": "6ddc5180",
   "metadata": {},
   "outputs": [],
   "source": [
    "###31.Remove an element from a set using the discard method"
   ]
  },
  {
   "cell_type": "code",
   "execution_count": 15,
   "id": "7d77d2dd",
   "metadata": {},
   "outputs": [
    {
     "name": "stdout",
     "output_type": "stream",
     "text": [
      "Set after discard :  {1, 2, 3, 4, 5, 7, 8}\n"
     ]
    }
   ],
   "source": [
    "set2={1,2,3,4,5,6,7,8}\n",
    "set2.discard(6)\n",
    "print(\"Set after discard : \",set2)"
   ]
  },
  {
   "cell_type": "code",
   "execution_count": 206,
   "id": "a180ff87",
   "metadata": {},
   "outputs": [],
   "source": [
    "###32.Compare two sets"
   ]
  },
  {
   "cell_type": "code",
   "execution_count": 16,
   "id": "f94dc4a0",
   "metadata": {},
   "outputs": [
    {
     "name": "stdout",
     "output_type": "stream",
     "text": [
      "Is set1 a subset of set2? True\n",
      "Is set2 a subset of set1? False\n",
      "Is set1 a superset of set2? False\n",
      "Is set2 a superset of set1? True\n",
      "Union: {1, 2, 3, 4, 5, 6, 7, 8}\n",
      "Intersection: {1, 2, 3, 4}\n",
      "Elements in set1 but not in set2: set()\n",
      "Elements in set2 but not in set1: {8, 5, 6, 7}\n"
     ]
    }
   ],
   "source": [
    "set1={1,2,3,4}\n",
    "set2={1,2,3,4,5,6,7,8}\n",
    "subset1=set1.issubset(set2)\n",
    "print(\"Is set1 a subset of set2?\", subset1)\n",
    "subset2=set2.issubset(set1)\n",
    "print(\"Is set2 a subset of set1?\", subset2)\n",
    "superset1=set1.issuperset(set2)\n",
    "print(\"Is set1 a superset of set2?\", superset1)\n",
    "superset2=set2.issuperset(set1)\n",
    "print(\"Is set2 a superset of set1?\", superset2)\n",
    "union=set1.union(set2)\n",
    "print(\"Union:\", union)\n",
    "intersection=set1.intersection(set2)\n",
    "print(\"Intersection:\", intersection)\n",
    "difference1=set1.difference(set2)\n",
    "print(\"Elements in set1 but not in set2:\", difference1)\n",
    "difference2=set2.difference(set1)\n",
    "print(\"Elements in set2 but not in set1:\", difference2)\n"
   ]
  },
  {
   "cell_type": "code",
   "execution_count": 239,
   "id": "9df15020",
   "metadata": {},
   "outputs": [],
   "source": [
    "##33.Create a set from a string"
   ]
  },
  {
   "cell_type": "code",
   "execution_count": 17,
   "id": "37758e55",
   "metadata": {},
   "outputs": [
    {
     "name": "stdout",
     "output_type": "stream",
     "text": [
      "Set from a String :  {'y', 'P', 't', 'n', 'h', 'o'}\n"
     ]
    }
   ],
   "source": [
    "string=\"Python\"\n",
    "string={*string}\n",
    "print(\"Set from a String : \",string)"
   ]
  },
  {
   "cell_type": "code",
   "execution_count": 240,
   "id": "f998c590",
   "metadata": {},
   "outputs": [],
   "source": [
    "##34.Convert a set of strings to a set of integers"
   ]
  },
  {
   "cell_type": "code",
   "execution_count": 18,
   "id": "ed1cc95b",
   "metadata": {},
   "outputs": [
    {
     "name": "stdout",
     "output_type": "stream",
     "text": [
      "Set :  {16, 43, 19, 12}\n"
     ]
    }
   ],
   "source": [
    "String={'12','16','19','43'}\n",
    "String={int(i) for i in String}\n",
    "print(\"Set : \",String)"
   ]
  },
  {
   "cell_type": "code",
   "execution_count": 244,
   "id": "3019fb3b",
   "metadata": {},
   "outputs": [],
   "source": [
    "##35.Convert a set of integers to a set of strings"
   ]
  },
  {
   "cell_type": "code",
   "execution_count": 19,
   "id": "4fb669d4",
   "metadata": {},
   "outputs": [
    {
     "name": "stdout",
     "output_type": "stream",
     "text": [
      "Set :  {'19', '16', '43', '12'}\n"
     ]
    }
   ],
   "source": [
    "Set1={16, 19, 43, 12}\n",
    "Set1={str(i) for i in Set1}\n",
    "print(\"Set : \",Set1)"
   ]
  },
  {
   "cell_type": "code",
   "execution_count": 19,
   "id": "83727d68",
   "metadata": {},
   "outputs": [],
   "source": [
    "##36.Create a set from a tuple"
   ]
  },
  {
   "cell_type": "code",
   "execution_count": 20,
   "id": "e7da514f",
   "metadata": {},
   "outputs": [
    {
     "name": "stdout",
     "output_type": "stream",
     "text": [
      "Set :  {1, 2, 4, 7, 9, 13}\n"
     ]
    }
   ],
   "source": [
    "tuple1=(1,2,4,7,9,13)\n",
    "set1={*tuple1,}\n",
    "print(\"Set : \",set1)"
   ]
  },
  {
   "cell_type": "code",
   "execution_count": 262,
   "id": "4b7b75b6",
   "metadata": {},
   "outputs": [],
   "source": [
    "##37.Convert a set to a tuple"
   ]
  },
  {
   "cell_type": "code",
   "execution_count": 21,
   "id": "e1f4c8f6",
   "metadata": {},
   "outputs": [
    {
     "name": "stdout",
     "output_type": "stream",
     "text": [
      "Tuple :  (1, 2, 4, 7, 9, 13)\n"
     ]
    }
   ],
   "source": [
    "set1={1, 2, 4, 7, 9, 13}\n",
    "tuple1=tuple(set1)\n",
    "print(\"Tuple : \",tuple1)"
   ]
  },
  {
   "cell_type": "code",
   "execution_count": 22,
   "id": "d54bce84",
   "metadata": {},
   "outputs": [],
   "source": [
    "##38.Find the maximum value in a set"
   ]
  },
  {
   "cell_type": "code",
   "execution_count": 23,
   "id": "2f027506",
   "metadata": {},
   "outputs": [
    {
     "name": "stdout",
     "output_type": "stream",
     "text": [
      "Maximum Value :  13\n"
     ]
    }
   ],
   "source": [
    "set1={1, 2, 4, 7, 9, 13}\n",
    "max=0\n",
    "for i in set1:\n",
    "    if i>max:\n",
    "        max=i\n",
    "print(\"Maximum Value : \",max)"
   ]
  },
  {
   "cell_type": "code",
   "execution_count": 276,
   "id": "77498478",
   "metadata": {},
   "outputs": [],
   "source": [
    "##39.Find the minimum value in a set"
   ]
  },
  {
   "cell_type": "code",
   "execution_count": 24,
   "id": "aa43c12a",
   "metadata": {},
   "outputs": [
    {
     "name": "stdout",
     "output_type": "stream",
     "text": [
      "Minimum Value :  1\n"
     ]
    }
   ],
   "source": [
    "set1={1, 2, 4, 7, 9, 13}\n",
    "min=None\n",
    "for i in set1:\n",
    "    if min is None or i<min:\n",
    "        min=i\n",
    "print(\"Minimum Value : \",min)"
   ]
  },
  {
   "cell_type": "code",
   "execution_count": 283,
   "id": "6d2c1c53",
   "metadata": {},
   "outputs": [],
   "source": [
    "##40.Create a set from user input"
   ]
  },
  {
   "cell_type": "code",
   "execution_count": 27,
   "id": "414659ff",
   "metadata": {},
   "outputs": [
    {
     "name": "stdout",
     "output_type": "stream",
     "text": [
      "Enter the number : 4\n",
      "Enter elements : 1\n",
      "Enter elements : 2\n",
      "Enter elements : 3\n",
      "Enter elements : 4\n",
      "User Entered Set :  {1, 2, 3, 4}\n"
     ]
    }
   ],
   "source": [
    "a=set()\n",
    "Number=int(input(\"Enter the number : \"))\n",
    "for i in range(Number):\n",
    "    element=int(input(\"Enter elements : \"))\n",
    "    a.add(element)\n",
    "print(\"User Entered Set : \",a)"
   ]
  },
  {
   "cell_type": "code",
   "execution_count": 291,
   "id": "5d3600f2",
   "metadata": {},
   "outputs": [],
   "source": [
    "##41.Check if the intersection of two sets is empty"
   ]
  },
  {
   "cell_type": "code",
   "execution_count": 28,
   "id": "0e0981a8",
   "metadata": {},
   "outputs": [
    {
     "name": "stdout",
     "output_type": "stream",
     "text": [
      "Intersection is not Empty\n"
     ]
    }
   ],
   "source": [
    "set1={1,2,3,4}\n",
    "set2={1,2,3,4,5,6,7,8}\n",
    "intersection=set1.intersection(set2)\n",
    "if not intersection:\n",
    "    print(\"Intersection is Empty\")\n",
    "else:\n",
    "    print(\"Intersection is not Empty\")"
   ]
  },
  {
   "cell_type": "code",
   "execution_count": 12,
   "id": "29fb4fcc",
   "metadata": {},
   "outputs": [],
   "source": [
    "##42.Create a set of the first 5 Fibonacci numbers"
   ]
  },
  {
   "cell_type": "code",
   "execution_count": 39,
   "id": "0b6daa41",
   "metadata": {},
   "outputs": [
    {
     "name": "stdout",
     "output_type": "stream",
     "text": [
      "Set of Fibonacci Numbers :  {0, 1, 2, 3, 5}\n"
     ]
    }
   ],
   "source": [
    "def fibonacci(n):\n",
    "    if n in {0, 1}:\n",
    "        return n\n",
    "    return fibonacci(n - 1) + fibonacci(n - 2)  # Recursive case\n",
    "set1={fibonacci(n) for n in range(6)}\n",
    "print(\"Set of Fibonacci Numbers : \",set1)"
   ]
  },
  {
   "cell_type": "code",
   "execution_count": 54,
   "id": "908dc8d6",
   "metadata": {},
   "outputs": [],
   "source": [
    "###43.Remove duplicates from a list using sets"
   ]
  },
  {
   "cell_type": "code",
   "execution_count": 63,
   "id": "e7de966f",
   "metadata": {},
   "outputs": [
    {
     "name": "stdout",
     "output_type": "stream",
     "text": [
      "List without duplicates :  [1, 3, 5, 6, 7, 8, 9]\n"
     ]
    }
   ],
   "source": [
    "list1 = [3,8,1,9,5,7,3,6,8]\n",
    "set1=set(list1)\n",
    "list2=list(set1)\n",
    "print(\"List without duplicates : \",list2)"
   ]
  },
  {
   "cell_type": "code",
   "execution_count": 20,
   "id": "136129ef",
   "metadata": {},
   "outputs": [],
   "source": [
    "###44.Check if two sets have the same elements, regardless of their count"
   ]
  },
  {
   "cell_type": "code",
   "execution_count": 64,
   "id": "8a89ce2a",
   "metadata": {},
   "outputs": [
    {
     "name": "stdout",
     "output_type": "stream",
     "text": [
      "Sets have same elements\n"
     ]
    }
   ],
   "source": [
    "set1={1,2,3,4}\n",
    "set2={1,2,3,4,3,2,1}\n",
    "list1=sorted(list(set1))\n",
    "list2=sorted(list(set2))\n",
    "if list1==list2:\n",
    "    print(\"Sets have same elements\")\n",
    "else:\n",
    "    print(\"Sets do not have same elements\")"
   ]
  },
  {
   "cell_type": "code",
   "execution_count": 23,
   "id": "e8b98f09",
   "metadata": {},
   "outputs": [],
   "source": [
    "###45.Create a set of the first n powers of 2"
   ]
  },
  {
   "cell_type": "code",
   "execution_count": 65,
   "id": "e06293e5",
   "metadata": {},
   "outputs": [
    {
     "name": "stdout",
     "output_type": "stream",
     "text": [
      "Enter the number5\n",
      "Powers of 2 :  {1, 2, 4, 8, 16}\n"
     ]
    }
   ],
   "source": [
    "power=set()\n",
    "n=int(input(\"Enter the number\"))\n",
    "for i in range(n):\n",
    "    pow=2**i\n",
    "    power.add(pow)\n",
    "print(\"Powers of 2 : \",power)"
   ]
  },
  {
   "cell_type": "code",
   "execution_count": 26,
   "id": "63afa960",
   "metadata": {},
   "outputs": [],
   "source": [
    "###46.Find the common elements between a set and a list"
   ]
  },
  {
   "cell_type": "code",
   "execution_count": 66,
   "id": "b6df18f4",
   "metadata": {},
   "outputs": [
    {
     "name": "stdout",
     "output_type": "stream",
     "text": [
      "Common Elements :  [3, 8, 1, 5, 7, 6]\n"
     ]
    }
   ],
   "source": [
    "list1 = [3,8,1,9,5,7,6]\n",
    "set1={1,2,3,4,5,6,7,8}\n",
    "common=[]\n",
    "for i in list1:\n",
    "    if i in set1:\n",
    "        common.append(i)\n",
    "print(\"Common Elements : \",common)"
   ]
  },
  {
   "cell_type": "code",
   "execution_count": 35,
   "id": "5b41bc7a",
   "metadata": {},
   "outputs": [],
   "source": [
    "###47.Create a set of the first n triangular numbers"
   ]
  },
  {
   "cell_type": "code",
   "execution_count": 67,
   "id": "9d07c26a",
   "metadata": {},
   "outputs": [
    {
     "name": "stdout",
     "output_type": "stream",
     "text": [
      "Enter the value of n : 5\n",
      "Triangular Numbers :  {1, 3, 6, 10, 15}\n"
     ]
    }
   ],
   "source": [
    "triangular=set()\n",
    "n=int(input(\"Enter the value of n : \"))\n",
    "for i in range(1,n + 1):\n",
    "    result = i * (i + 1) // 2\n",
    "    triangular.add(result)\n",
    "print(\"Triangular Numbers : \",triangular)"
   ]
  },
  {
   "cell_type": "code",
   "execution_count": 62,
   "id": "75b7ae62",
   "metadata": {},
   "outputs": [],
   "source": [
    "###48.Check if a set contains another set as a subset"
   ]
  },
  {
   "cell_type": "code",
   "execution_count": 68,
   "id": "6243f377",
   "metadata": {},
   "outputs": [
    {
     "name": "stdout",
     "output_type": "stream",
     "text": [
      "Set1 is subset of Set2\n"
     ]
    }
   ],
   "source": [
    "set1={1,2,3,4}\n",
    "set2={1,2,3,4,5,6,7,8}\n",
    "check=set1.issubset(set2)\n",
    "if check is True:\n",
    "    print(\"Set1 is subset of Set2\")\n",
    "else:\n",
    "    print(\"Set1 is not a subset of Set2\")"
   ]
  },
  {
   "cell_type": "code",
   "execution_count": 66,
   "id": "fc7572f7",
   "metadata": {},
   "outputs": [],
   "source": [
    "###49.Create a set of alternating 1s and 0s of length n"
   ]
  },
  {
   "cell_type": "code",
   "execution_count": 69,
   "id": "caff087d",
   "metadata": {},
   "outputs": [
    {
     "name": "stdout",
     "output_type": "stream",
     "text": [
      "Enter the Number : 5\n",
      "Tuple of alternating 1s and 0s :  {0, 1}\n"
     ]
    }
   ],
   "source": [
    "n=int(input(\"Enter the Number : \"))\n",
    "set1={i%2 for i in range(n)}\n",
    "print(\"Tuple of alternating 1s and 0s : \",set1)"
   ]
  },
  {
   "cell_type": "code",
   "execution_count": 78,
   "id": "b630428a",
   "metadata": {},
   "outputs": [],
   "source": [
    "###50.Merge multiple sets into one"
   ]
  },
  {
   "cell_type": "code",
   "execution_count": 70,
   "id": "3cee2644",
   "metadata": {},
   "outputs": [
    {
     "name": "stdout",
     "output_type": "stream",
     "text": [
      "Merged Set :  {1, 2, 3, 4, 6, 7, 9, 11}\n"
     ]
    }
   ],
   "source": [
    "set1={1,2,3,4}\n",
    "set2={1,2,3,4,7,9,11}\n",
    "set3={4,6,7,9,1}\n",
    "Merged_Set=set1.union(set2,set3)\n",
    "print(\"Merged Set : \",Merged_Set)"
   ]
  },
  {
   "cell_type": "code",
   "execution_count": null,
   "id": "9e69ad81",
   "metadata": {},
   "outputs": [],
   "source": []
  }
 ],
 "metadata": {
  "kernelspec": {
   "display_name": "Python 3 (ipykernel)",
   "language": "python",
   "name": "python3"
  },
  "language_info": {
   "codemirror_mode": {
    "name": "ipython",
    "version": 3
   },
   "file_extension": ".py",
   "mimetype": "text/x-python",
   "name": "python",
   "nbconvert_exporter": "python",
   "pygments_lexer": "ipython3",
   "version": "3.9.12"
  }
 },
 "nbformat": 4,
 "nbformat_minor": 5
}
